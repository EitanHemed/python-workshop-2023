{
 "nbformat": 4,
 "nbformat_minor": 0,
 "metadata": {
  "colab": {
   "name": "Python-Workshop-Day-1.ipynb",
   "provenance": [],
   "collapsed_sections": [],
   "toc_visible": true,
   "authorship_tag": "ABX9TyMPvM2a/auVwaNqAiP9If9Q"
  },
  "kernelspec": {
   "name": "python3",
   "language": "python",
   "display_name": "Python 3 (ipykernel)"
  },
  "language_info": {
   "name": "python"
  }
 },
 "cells": [
  {
   "cell_type": "markdown",
   "source": [
    "# <center><u>Introduction to data analysis using Python<u></center>\n",
    "### <center>July 21-22th, 2024</center>\n",
    "### <center>Eitan Hemed, PhD</center>\n",
    "### <center>Department of Psychology, University of Haifa</center>\n",
    "\n",
    "\n",
    "---\n",
    "<p align=\"center\">\n",
    " <b> All materials and exercise solutions are available on </b>\n",
    "<a style=\"font-weight:bold\" href=\"https://github.com/EitanHemed/python-workshop-2023\">Github</a>\n",
    "</p>\n"
   ],
   "metadata": {
    "collapsed": false
   }
  },
  {
   "cell_type": "markdown",
   "source": [
    "Welcome to <u>Introduction to data analysis using Python</u> workshop.\n",
    "I hope this workshop will show you what can be done with Python (or programming languages in general), and will give you the tools and motivation to continue learning on your own.\n",
    "-Eitan"
   ],
   "metadata": {
    "collapsed": false
   }
  },
  {
   "cell_type": "markdown",
   "metadata": {
    "id": "CE23VPepSwsl"
   },
   "source": [
    "# Aim and scope\n",
    "\n",
    "\n"
   ]
  },
  {
   "cell_type": "markdown",
   "metadata": {
    "id": "Pb-x7xJI94uz"
   },
   "source": [
    "\n",
    "## Python\n",
    "\n",
    "Python is a very popular programming language both in industry and academia, for many reasons. One of the main reasons is that Python is highly readable, and can often times be read as plain English. This makes Python highly accessible to people with little to no experience with code.\n",
    "\n",
    "In recent years it became extremely popular in the data science community, as it has a rich ecosystem of libraries for data analysis, machine learning, and visualization. Thus, it is very useful to researchers in the social sciences, which often do not have a strong background in programming.\n",
    "\n",
    "Python is about 30 years old, and was named after [Monty Python](https://en.wikipedia.org/wiki/Monty_Python). We will be using a modern version of Python (3.10).\n"
   ]
  },
  {
   "cell_type": "markdown",
   "metadata": {
    "id": "C3z9w9IX-HAL"
   },
   "source": [
    "### What our workshop is and isn't\n",
    "\n",
    "Assuming some participants have no experience programming at all, we will spend some time on foundations. It is crucial to get a firm grasp on the basics of Python in order to be able to use it for more complex tasks, such as reading, pre-processing, analyzing and plotting your research data.\n",
    "\n",
    "The program is packed, and we might skip some planned features or exercises pending time limitations. However, the materials will remain available to you indefinitely here or on a Github repository.\n",
    "\n",
    "By the end of this workshop you should have a basic understand of the Python language, and be capable to solve simple data analysis problems. Note that this is not a comprehensive Python course and there are many topics that we will not cover, simply because of time constraints (e.g., writing code modules, object-oriented programming). Suggestions for continued learning will be provided.\n",
    "\n",
    "----\n",
    "\n",
    "Learning to program is like learning a new langauge, certain concepts are likely to be challenging. This is an introductory workshop, don't be shy to ask for help and for clarifications."
   ]
  },
  {
   "cell_type": "markdown",
   "metadata": {
    "id": "U1zvzk4ea68u"
   },
   "source": [
    "### What are code notebooks?\n",
    "The workshop uses code notebooks. Code notebooks are a type of file that combines both code and markup (formatted text, images, graphs, etc.). They are popular among researchers and data scientists as they allow you to create a document which combines both the analysis code and the summary of the analysis (e.g., figures, tables, etc.)."
   ]
  },
  {
   "cell_type": "markdown",
   "source": [
    "### What is Google Colab?\n",
    "\n",
    "[Google Colaboratory](https://colab.research.google.com/notebooks/intro.ipynb) is a freemium service offered by Google. It allows you to run Python code from your browser and comes pre-installed with almost any extension you would ever need for data-related work (including GPU capabilities); and it is easy to add any missing packages related to your project. If you don't want to use Colab you can download the workshop notebooks and run it locally on your computer or other web services like [Kaggle](https://www.kaggle.com/).\n"
   ],
   "metadata": {
    "collapsed": false
   }
  },
  {
   "cell_type": "markdown",
   "metadata": {
    "id": "4sZcitymeHOR"
   },
   "source": [
    "## Schedule (Tentative)\n",
    "\n",
    "---\n",
    "\n",
    "\n",
    "*Day 1:*\n",
    "\n",
    "\n",
    "| Slot        | Subject                        |\n",
    "|-------------|--------------------------------|\n",
    "| 08:45-10:15 | Python fundamentals            |\n",
    "| 10:15-10:30 | Break                          |\n",
    "| 10:30-12:00 | Python fundamentals (cont.), Modules |\n",
    "| 12:00-12:30 | Break                          |\n",
    "| 12:30-14:15 | Modules                        |\n",
    "\n",
    "\n",
    "---\n",
    "\n",
    "\n",
    "*Day 2:*\n",
    "\n",
    "\n",
    "| Slot | Subject                     |\n",
    "|----------|--------------------------|\n",
    "| 09:00-10:30       | Modules?                    |\n",
    "| 10:30-10:45       | Break                |\n",
    "| 10:45-12:15        | Installing Modules, Working in Google Drive, Group Projects\n",
    "| 12:15-12:45       | Break                |\n",
    "| 12:45-14:00        | Local installation, Continued learning |\n"
   ]
  },
  {
   "cell_type": "markdown",
   "metadata": {
    "id": "Xzkyrm9Up6S8"
   },
   "source": [
    "# Python fundamentals\n",
    "\n",
    "\n"
   ]
  },
  {
   "cell_type": "markdown",
   "metadata": {
    "id": "jnHO-xgG6R_V"
   },
   "source": [
    "## Variables"
   ]
  },
  {
   "cell_type": "markdown",
   "metadata": {
    "id": "YYDSVk3Nr1Qz"
   },
   "source": [
    "A basic building block in Python (and most other programming languages) is the variable.\n",
    "In Python, a variable is a name that references some value.\n",
    "This value can represent a number, some text, or other objects that we will soon get to know.\n",
    "\n",
    "---\n",
    "\n",
    "### Your first variable\n",
    "Variables in Python are assigned using an expression of the form `a = b`. Below we assign the value `3` to `x`. Now `x` will reference the value `3`, until it is changed.\n",
    "\n",
    "To execute the code cell either place your mouse on the square brackets (`[ ]`) on the left of the cell, or click anywhere within the cell and press `Ctrl+Enter`.\n"
   ]
  },
  {
   "cell_type": "code",
   "metadata": {
    "id": "h6xSqD_OKwIz"
   },
   "source": [
    "x = 3"
   ],
   "execution_count": null,
   "outputs": []
  },
  {
   "cell_type": "markdown",
   "metadata": {
    "collapsed": false
   },
   "source": [
    "Python has a built-in function named `print`, that can enable us to display interactively the value of a variable in the notebook, or console that we are working in.  \n",
    "\n",
    "While `print` is quite simple, it can also be used for generating complex reports, and is many times used for debugging code (although using a debugger is more recommended in the long run)."
   ]
  },
  {
   "cell_type": "code",
   "outputs": [],
   "source": [
    "print(x)"
   ],
   "metadata": {
    "collapsed": false
   },
   "execution_count": null
  },
  {
   "cell_type": "markdown",
   "source": [
    "\n",
    "More generally, a function is an object which (usually) receives an input and (usually) emits output. We will cover functions more explicitly at a later stage in the workshop. \n",
    "\n"
   ],
   "metadata": {
    "id": "1FNsiGk8wGox"
   }
  },
  {
   "cell_type": "markdown",
   "metadata": {
    "id": "HDunwy5DtLHr"
   },
   "source": [
    "A **variable** can **vary** - hence we change the value of `x` to be something else. Note that this overwrites the value that `x` points to."
   ]
  },
  {
   "cell_type": "code",
   "metadata": {
    "id": "fRyADkSktbeS"
   },
   "source": [
    "x = 6 # Assign a new value to x\n",
    "print(x) # Print to the console the new value of x"
   ],
   "execution_count": null,
   "outputs": []
  },
  {
   "cell_type": "markdown",
   "metadata": {
    "id": "jxh1DGK7VuMZ"
   },
   "source": [
    "Note that in Python code, some of the code can be marked as a comment.\n",
    "\n",
    "`# This is a comment`\n",
    "\n",
    "Comments are not evaluated, meaning that the Python interpreter ignores them. \n",
    "\n",
    "Comments can be used to clarify for the reader parts of the code that are non-trivial. We will see at a later point how comments are used when documenting more complex code structures than a variable assignment.\n",
    "\n",
    "Although theoretically when using a notebook environment you don't nessarcarily need comments (as you have text cells), you might want to use them to document specific operatioons within a code cell. "
   ]
  },
  {
   "cell_type": "markdown",
   "metadata": {
    "id": "m_nPb8KouIY4"
   },
   "source": [
    "#### $\\color{dodgerblue}{\\text{Exercise!}}$\n",
    "\n",
    "So far we only defined a variable. We said we can reference to a specific value using a variable.\n",
    "\n",
    "In the next cell, define a variable named `new_x` that has the value of `x` plus two. Remove the comment (`#`) and replace the ellipsis (`...`) where needed."
   ]
  },
  {
   "cell_type": "code",
   "metadata": {
    "id": "3ZVtDVNoxj6T"
   },
   "source": [
    "x = 3\n",
    "## Remove the comment and replace the ellipsis to create a new variable named new_x\n",
    "# ... = ... ... ...\n",
    "# new_x = x + 2"
   ],
   "execution_count": null,
   "outputs": []
  },
  {
   "cell_type": "markdown",
   "metadata": {
    "id": "7tVhJR5luSBS"
   },
   "source": [
    "## Constraints on variable names\n",
    "\n",
    "There are two several limitations on the format of variable names you can use. \n",
    "\n",
    "\n",
    "\n",
    "* Variable names can contain upper and lowercase latin letters.\n",
    "* Variable names can contain underscores underscores (_). \n",
    "* Variable name can contain digits (0-9), but cannot start with a number.\n",
    "* Variable names cannot contain spaces or other special characters, except for underscores (_).\n",
    "* Variable name cannot be one of several reserved [keywords](https://docs.python.org/3/reference/lexical_analysis.html#keywords)."
   ]
  },
  {
   "cell_type": "code",
   "metadata": {
    "id": "XVFnvtns3sQp"
   },
   "source": [
    "my_age = 31\n",
    "__AGE__ = 40"
   ],
   "execution_count": null,
   "outputs": []
  },
  {
   "cell_type": "markdown",
   "metadata": {
    "id": "vqWlh6Ai2yBN"
   },
   "source": [
    "Similary to most programming langauges, variable names are case-sensitive. If you run the following code you will get an error, as the Python interpreter looks for a variable named `AGE`. "
   ]
  },
  {
   "cell_type": "code",
   "metadata": {
    "id": "a6DyAMRM28b8"
   },
   "source": [
    "age = 30\n",
    "print(AGE)"
   ],
   "execution_count": null,
   "outputs": []
  },
  {
   "cell_type": "markdown",
   "source": [
    "While errors can be discouraging, they are extremely important, as they are informative, and can help you understand what went wrong, especially when you are working with a long piece of code. Errors have specific types, related to the problem that occurred, and they point to the line in which the error occurred (click on traceback)."
   ],
   "metadata": {
    "collapsed": false
   }
  },
  {
   "cell_type": "markdown",
   "source": [
    "There are naming conventions for variables in Python (e.g., when to use all caps as in `AGE`), but they will not be explicitly covered in the workshop. For more info [see here](https://www.python.org/dev/peps/pep-0008/#naming-conventions).\n",
    "\n",
    "These conventions help you make sense of the code you are reading, whether it is your own or someone else's."
   ],
   "metadata": {
    "collapsed": false
   }
  },
  {
   "cell_type": "markdown",
   "source": [
    "\n",
    "Note that errors are informative - they usually have an elaborate message of what went wrong, have different types which adds more context, and point to the line in which the error occurred. When you are running a long script rather than a cell in a notebook, they can be very helpful in debugging your code.\n"
   ],
   "metadata": {
    "collapsed": false
   }
  },
  {
   "cell_type": "markdown",
   "metadata": {
    "id": "sUsvRl-eoJi4"
   },
   "source": [
    "## Data types\n",
    "There are several built-in data types, that can be used to represent different types of information, in various ways. They can also be put together to create more complex data structures."
   ]
  },
  {
   "cell_type": "markdown",
   "source": [
    "![](https://miro.medium.com/v2/resize:fit:631/1*8J9yViDiXqNYeEWctWkdfQ.jpeg)\n",
    "\n",
    "[image source](https://miro.medium.com/v2/resize:fit:631/1*8J9yViDiXqNYeEWctWkdfQ.jpeg)"
   ],
   "metadata": {
    "collapsed": false
   }
  },
  {
   "cell_type": "markdown",
   "metadata": {
    "id": "js1gc-MbNUve"
   },
   "source": [
    "\n",
    "### Integers\n",
    "Integers are simply whole numbers - numbers that can be written without a fractional component. We worked with them in the previous section. \n",
    "\n",
    "\n",
    "\n",
    "Integers can be subjected to various arithmetic operations.\n",
    "\n",
    "| Operator | Operation        |\n",
    "|----------|------------------|\n",
    "| +        | Addition         |\n",
    "| -        | Subtraction      |\n",
    "| *        | Multiplication   |\n",
    "| /        | Division         |\n",
    "| **       | Exponentiation   |\n",
    "\n",
    "\n"
   ]
  },
  {
   "cell_type": "code",
   "metadata": {
    "colab": {
     "base_uri": "https://localhost:8080/"
    },
    "id": "9dlnGg4DSsMl",
    "executionInfo": {
     "status": "ok",
     "timestamp": 1632830708102,
     "user_tz": -180,
     "elapsed": 313,
     "user": {
      "displayName": "Eitan Hemed",
      "photoUrl": "https://lh3.googleusercontent.com/a-/AOh14GgjTbd1GSnhSQvJi3Wwmdj-WayQxZh7tE-36k6hfg=s64",
      "userId": "11035653591450038643"
     }
    },
    "outputId": "039b39d8-52cc-4b82-84d6-e65fd9e28050"
   },
   "source": [
    "result = 3 ** 2 - (4 / 2)\n",
    "print(result, type(result))"
   ],
   "execution_count": null,
   "outputs": []
  },
  {
   "cell_type": "markdown",
   "metadata": {
    "id": "KIYPCoaeS5c2"
   },
   "source": [
    "Note that the result we received is not an `int`, but a `float`. This is because the division operator (`/`) returns a float, even if the result is a whole number."
   ]
  },
  {
   "cell_type": "markdown",
   "metadata": {
    "id": "Zii4gmfiWzjK"
   },
   "source": [
    "### Floats\n",
    "\n",
    "Floats are numbers that contain a decimal fraction. "
   ]
  },
  {
   "cell_type": "code",
   "metadata": {
    "id": "eNwXePJbRPus"
   },
   "source": [
    "pi = 3.14\n",
    "p = 0.001\n",
    "p_without_leading_zero = .001 # You can omit the leading zero, for probability for example"
   ],
   "execution_count": null,
   "outputs": []
  },
  {
   "cell_type": "markdown",
   "metadata": {
    "id": "w4FZMzfn9tvh"
   },
   "source": [
    "Together with `int`s and other numeric types they can be used to perform mathmatical operations. "
   ]
  },
  {
   "cell_type": "code",
   "metadata": {
    "colab": {
     "base_uri": "https://localhost:8080/"
    },
    "id": "CDhfR8r094tk",
    "executionInfo": {
     "status": "ok",
     "timestamp": 1632858891600,
     "user_tz": -180,
     "elapsed": 303,
     "user": {
      "displayName": "Eitan Hemed",
      "photoUrl": "https://lh3.googleusercontent.com/a-/AOh14GgjTbd1GSnhSQvJi3Wwmdj-WayQxZh7tE-36k6hfg=s64",
      "userId": "11035653591450038643"
     }
    },
    "outputId": "1b6cff1a-b2c3-4108-8a99-2b1c80ef8e78"
   },
   "source": [
    "x = 4\n",
    "y = 0.5\n",
    "print(x ** y)"
   ],
   "execution_count": null,
   "outputs": []
  },
  {
   "cell_type": "markdown",
   "metadata": {
    "id": "qbaJIXLHRtai"
   },
   "source": [
    "Here are two other operators which are useful in various cases when using numeric types in Python.\n",
    "\n",
    "| Operator | Operation        |\n",
    "|----------|------------------|\n",
    "| //       | Floor Division   |\n",
    "| %        | Modular Division |\n",
    "\n",
    "\n",
    "\n",
    "Floor division (`//`) rounds down the result of the division and returns an integer.\n",
    "\n"
   ]
  },
  {
   "cell_type": "code",
   "metadata": {
    "colab": {
     "base_uri": "https://localhost:8080/"
    },
    "id": "INP6ttBbR7ak",
    "executionInfo": {
     "status": "ok",
     "timestamp": 1632854661599,
     "user_tz": -180,
     "elapsed": 298,
     "user": {
      "displayName": "Eitan Hemed",
      "photoUrl": "https://lh3.googleusercontent.com/a-/AOh14GgjTbd1GSnhSQvJi3Wwmdj-WayQxZh7tE-36k6hfg=s64",
      "userId": "11035653591450038643"
     }
    },
    "outputId": "1a4bf77e-4cb7-4806-f1ff-a8441b51d954"
   },
   "source": [
    "print(1 // 2) # Rather than 0.5"
   ],
   "execution_count": null,
   "outputs": []
  },
  {
   "cell_type": "markdown",
   "metadata": {
    "id": "AS6QtKgFtaz8"
   },
   "source": [
    " #### $\\color{dodgerblue}{\\text{Exercise!}}$\n",
    "\n",
    "Complete the expression by entering an `int` instead of the `...`, such that the first printed result would be a fractional number and the second would be an integer."
   ]
  },
  {
   "cell_type": "code",
   "metadata": {
    "colab": {
     "base_uri": "https://localhost:8080/"
    },
    "id": "avHIThUutYd3",
    "executionInfo": {
     "status": "ok",
     "timestamp": 1632854762151,
     "user_tz": -180,
     "elapsed": 302,
     "user": {
      "displayName": "Eitan Hemed",
      "photoUrl": "https://lh3.googleusercontent.com/a-/AOh14GgjTbd1GSnhSQvJi3Wwmdj-WayQxZh7tE-36k6hfg=s64",
      "userId": "11035653591450038643"
     }
    },
    "outputId": "c4fe8e0a-dd28-4294-dc04-f178be6fda10"
   },
   "source": [
    "an_int = 5\n",
    "print(10 / an_int)\n",
    "print(10 // an_int)"
   ],
   "execution_count": null,
   "outputs": []
  },
  {
   "cell_type": "markdown",
   "metadata": {
    "id": "42YTYns4TmVJ"
   },
   "source": [
    "Modulo operation (`%`) returns the remainder when dividing the left-hand number by the right-hand number.\n",
    "\n",
    "This is very useful when we want to iterate over a set of numbers and identify when a specific condition occurs along a cycle (e.g., differentiate between odd and even numbered trials in your experiment)."
   ]
  },
  {
   "cell_type": "code",
   "metadata": {
    "colab": {
     "base_uri": "https://localhost:8080/"
    },
    "id": "BcvoMnpBRbjY",
    "executionInfo": {
     "status": "ok",
     "timestamp": 1632831272730,
     "user_tz": -180,
     "elapsed": 290,
     "user": {
      "displayName": "Eitan Hemed",
      "photoUrl": "https://lh3.googleusercontent.com/a-/AOh14GgjTbd1GSnhSQvJi3Wwmdj-WayQxZh7tE-36k6hfg=s64",
      "userId": "11035653591450038643"
     }
    },
    "outputId": "8a0c0fe5-2748-4594-b35c-2ca3a1440ee8"
   },
   "source": [
    "# Odd and even numbers\n",
    "print(4 % 2, 5 % 2, 6 % 2, 7 % 2)\n",
    "# Days of the week\n",
    "print(6 % 7, 7 % 7, 8 % 7)"
   ],
   "execution_count": null,
   "outputs": []
  },
  {
   "cell_type": "markdown",
   "metadata": {
    "id": "4SgO-efL8XgV"
   },
   "source": [
    "\n",
    "### Booleans\n",
    "Booleans (`bool` for short) are actually a special case of integers that are used to mark truth values.\n",
    "There are two booleans, `True` and `False` can be evaluated to 1 and 0, respectively."
   ]
  },
  {
   "cell_type": "markdown",
   "metadata": {
    "id": "4ReElO08ODGE"
   },
   "source": [
    "We will later see the importance of booleans when learning how to control the flow of a program, or when trying to select a subset of data based on a condition."
   ]
  },
  {
   "cell_type": "code",
   "metadata": {
    "colab": {
     "base_uri": "https://localhost:8080/"
    },
    "id": "KUQ1qjxy8-Nu",
    "executionInfo": {
     "status": "ok",
     "timestamp": 1632824999976,
     "user_tz": -180,
     "elapsed": 524,
     "user": {
      "displayName": "Eitan Hemed",
      "photoUrl": "https://lh3.googleusercontent.com/a-/AOh14GgjTbd1GSnhSQvJi3Wwmdj-WayQxZh7tE-36k6hfg=s64",
      "userId": "11035653591450038643"
     }
    },
    "outputId": "0a3836eb-066f-4f22-a3e2-1702b246749e"
   },
   "source": [
    "print(True + 1)\n",
    "print(False - True)"
   ],
   "execution_count": null,
   "outputs": []
  },
  {
   "cell_type": "markdown",
   "metadata": {
    "id": "_8Rj1YnyOcdo"
   },
   "source": [
    "However, we can use the built-in `type` function to see that `True` and `False`. They have a unique data type and are not simply another name for 0 and 1."
   ]
  },
  {
   "cell_type": "code",
   "metadata": {
    "colab": {
     "base_uri": "https://localhost:8080/"
    },
    "id": "ZSQ1DhqUOdBo",
    "executionInfo": {
     "status": "ok",
     "timestamp": 1632829591772,
     "user_tz": -180,
     "elapsed": 308,
     "user": {
      "displayName": "Eitan Hemed",
      "photoUrl": "https://lh3.googleusercontent.com/a-/AOh14GgjTbd1GSnhSQvJi3Wwmdj-WayQxZh7tE-36k6hfg=s64",
      "userId": "11035653591450038643"
     }
    },
    "outputId": "f932daa8-ba7a-42d5-a5fc-ff47266b8955"
   },
   "source": [
    "print(type(False), type(0), type(True), type(1))"
   ],
   "execution_count": null,
   "outputs": []
  },
  {
   "cell_type": "markdown",
   "metadata": {
    "id": "faM3uICb9YYH"
   },
   "source": [
    "When we make comparison between two values, we get the corresponding `bool`. To make a comparison we can use the following operators:\n",
    "\n",
    "| Operator | Name                     |\n",
    "|----------|--------------------------|\n",
    "| ==       | Equal                    |\n",
    "| !=       | Not equal                |\n",
    "| <        | Greater than             |\n",
    "| <=       | Less than                |\n",
    "| >        | Greater than or equal to |\n",
    "| >=       | Less than or equal to    |"
   ]
  },
  {
   "cell_type": "code",
   "metadata": {
    "id": "Z0aAGYIy9iSH",
    "colab": {
     "base_uri": "https://localhost:8080/"
    },
    "executionInfo": {
     "status": "ok",
     "timestamp": 1632826100746,
     "user_tz": -180,
     "elapsed": 419,
     "user": {
      "displayName": "Eitan Hemed",
      "photoUrl": "https://lh3.googleusercontent.com/a-/AOh14GgjTbd1GSnhSQvJi3Wwmdj-WayQxZh7tE-36k6hfg=s64",
      "userId": "11035653591450038643"
     }
    },
    "outputId": "df27d157-dc46-4e7d-9f35-90ea441a9ce7"
   },
   "source": [
    "3 == 4"
   ],
   "execution_count": null,
   "outputs": []
  },
  {
   "cell_type": "code",
   "metadata": {
    "colab": {
     "base_uri": "https://localhost:8080/"
    },
    "id": "P-PFfwsn9sMb",
    "executionInfo": {
     "status": "ok",
     "timestamp": 1632826093382,
     "user_tz": -180,
     "elapsed": 287,
     "user": {
      "displayName": "Eitan Hemed",
      "photoUrl": "https://lh3.googleusercontent.com/a-/AOh14GgjTbd1GSnhSQvJi3Wwmdj-WayQxZh7tE-36k6hfg=s64",
      "userId": "11035653591450038643"
     }
    },
    "outputId": "f646db39-c310-4045-a07b-3c699c5a52be"
   },
   "source": [
    "3 <= 4"
   ],
   "execution_count": null,
   "outputs": []
  },
  {
   "cell_type": "markdown",
   "metadata": {
    "id": "gZMsBGuYAD9t"
   },
   "source": [
    "Sometimes we would want to evaluate a more complex condition, such as is this number positive and less than 3. To do this we can chain comparisons using `and`, `not`, and `or`. \n"
   ]
  },
  {
   "cell_type": "markdown",
   "metadata": {
    "id": "s8IDWQ7mNoeD"
   },
   "source": [
    "\n",
    " #### $\\color{dodgerblue}{\\text{Exercise!}}$\n",
    "\n",
    " What would be the result of the following comparisons? Try to answer before running the next cell code.\n",
    "\n",
    "| Expression       | Result           |\n",
    "|------------------|------------------|\n",
    "| 3 == 5 or not 3 == 5 |        ?         |\n",
    "| 2 < 3 and 3 == 5 |        ?         |\n",
    "| 2 < 3 or 3 == 5  |        ?         |\n",
    "| not 2 < 3 or not 3 == 5  |        ?         |\n",
    "| not 3 == 5       |        ?         |\n",
    "| not not 3 == 5       |        ?         |\n",
    "\n"
   ]
  },
  {
   "cell_type": "markdown",
   "source": [
    "Please ignore the `f`, quotation marks and curly brackets. These will be explained later in the workshop."
   ],
   "metadata": {
    "collapsed": false
   }
  },
  {
   "cell_type": "code",
   "metadata": {
    "id": "lfdpv2EF_6nq"
   },
   "source": [
    "print(\n",
    "    f\"{(3 == 5 or not 3 == 5) = }\",\n",
    "    f\"{(2 < 3 and 3 == 5) = }\",\n",
    "    f\"{(2 < 3 or 3 == 5) = }\",\n",
    "    f\"{(not 2 < 3 or not 3 == 5) = }\",\n",
    "    f\"{(not 3 == 5) = }\",\n",
    "    f\"{(not not 3 == 5) = }\",\n",
    "    sep='\\n'\n",
    ")"
   ],
   "execution_count": null,
   "outputs": []
  },
  {
   "cell_type": "markdown",
   "metadata": {
    "id": "kkgaAgtISZum"
   },
   "source": [
    "As you've seen, \n",
    "*   `and` returns true if both chained conditions return `True`\n",
    "*   `or` returns `True` if either of the expressions (or both) are true. \n",
    "*   `not` simply negates the following expression (i.e., returns the opposite truth value)."
   ]
  },
  {
   "cell_type": "markdown",
   "metadata": {
    "id": "So3SzTBt69pO"
   },
   "source": [
    "In Python (almost) any object can be tested for its truth value, which is either `True` or `False`. Keep that in mind for later."
   ]
  },
  {
   "cell_type": "markdown",
   "source": [
    "One gotcha that we should be aware of related to the order in which Python evaluates expressions.\n",
    "\n",
    "Python evaluates expressions from left to right, and stops evaluating as soon as the truth value of the expression is known. This is called short-circuiting. However, there is also a precedence order, on top of the order of evaluation.\n",
    "\n",
    "1. Parentheses (): They have the highest precedence and can be used to force an expression to evaluate in the order you want.\n",
    "2. Logical NOT not: It has the next highest precedence.\n",
    "3. Logical AND and: It has lower precedence than not.\n",
    "4. Logical OR or: It has the lowest precedence.\n",
    "\n",
    "\n",
    "So, for example, in the expression `not 3 == 5 or 2 < 3`, Python first evaluates `not 3 == 5` (which is `True`), then `2 < 3` (which is `True`), and finally performs the comparison of `True or True`, which is `True`.\n",
    "\n",
    "While it is frowned upon to use redundant parentheses, you might find that you need it as a beginner, it is better to be explicit than to be wrong.\n",
    "\n"
   ],
   "metadata": {
    "collapsed": false
   }
  },
  {
   "cell_type": "markdown",
   "metadata": {
    "id": "o5JbtHN39ug9"
   },
   "source": [
    "### Strings\n",
    "Strings are ordered collections of any non-negative number of characters.\n",
    "\n",
    "We define a string by using single or double quotation marks.\n"
   ]
  },
  {
   "cell_type": "code",
   "metadata": {
    "id": "tdSRR93f9X9e"
   },
   "source": [
    "my_alma_mater = 'University of Haifa'\n",
    "current_month = \"July\"\n",
    "single_character_string = '@'\n",
    "just_an_empty_string = ''"
   ],
   "execution_count": null,
   "outputs": []
  },
  {
   "cell_type": "markdown",
   "metadata": {
    "id": "Q8TtbKNHxZxK"
   },
   "source": [
    "Strings are collections. So by definition they contain other elements. In python there is no individual data type for a single character. A single character is simply a string of length 1. \n",
    "\n",
    "Here we can get the number of objects in a string, using the built-in `len` function."
   ]
  },
  {
   "cell_type": "code",
   "outputs": [],
   "source": [
    "print(len('T'))"
   ],
   "metadata": {
    "collapsed": false
   },
   "execution_count": null
  },
  {
   "cell_type": "code",
   "metadata": {
    "colab": {
     "base_uri": "https://localhost:8080/"
    },
    "id": "NfmeoCuJxrwX",
    "executionInfo": {
     "status": "ok",
     "timestamp": 1633091296683,
     "user_tz": -180,
     "elapsed": 280,
     "user": {
      "displayName": "Eitan Hemed",
      "photoUrl": "https://lh3.googleusercontent.com/a-/AOh14GgjTbd1GSnhSQvJi3Wwmdj-WayQxZh7tE-36k6hfg=s64",
      "userId": "11035653591450038643"
     }
    },
    "outputId": "b7b7d5dc-bf46-450c-d177-eb5cfc056c4e"
   },
   "source": [
    "len(\"This sentence is composed of 42 characters\")"
   ],
   "execution_count": null,
   "outputs": []
  },
  {
   "cell_type": "markdown",
   "metadata": {
    "id": "TUUGQcVVyI6G"
   },
   "source": [
    "#### String indexing\n",
    "We noted that strings are ordered collections. Meaning that we can use indices to retrieve characters at specific positions, either single characters or slices of a string. One way to do so is use square brackets, that contain the indices we are intrested in. This syntax works for almost all ordered collections in Python."
   ]
  },
  {
   "cell_type": "code",
   "metadata": {
    "id": "Hl8AjzRiyjVV"
   },
   "source": [
    "s = \"Hello World!\"\n",
    "print(s[0])"
   ],
   "execution_count": null,
   "outputs": []
  },
  {
   "cell_type": "markdown",
   "metadata": {
    "id": "xfrc8N67yuJc"
   },
   "source": [
    "Note that in Python indexing is 0-based. You can think of it as *the number of elements before a specific index*, there are exactly 0 elements before the element in the first index.\n",
    "\n",
    "\n",
    "---\n",
    "\n",
    "Indexing in Python is end-exclusive. When we want to retrieve a slice of a collection, the syntax is `[start: stop+1]`, meaning that if we want the first five characters, we would use the slice `[0:5]` (0, 1, 2, 3 and 4).\n"
   ]
  },
  {
   "cell_type": "code",
   "metadata": {
    "id": "CJbDSfn2KvXm"
   },
   "source": [
    "s = \"Hello World!\"\n",
    "print(s[0:5])"
   ],
   "execution_count": null,
   "outputs": []
  },
  {
   "cell_type": "markdown",
   "metadata": {
    "id": "vET4yUe312D1"
   },
   "source": [
    "Omitting the stop argument in an indexing operation would implicitly return the string from start to finish (the same would happen if also the start argument would be dropped. i.e., `s[:]`). "
   ]
  },
  {
   "cell_type": "code",
   "metadata": {
    "id": "UbrOsxPR2Ckf"
   },
   "source": [
    "s = \"Hello World!\"\n",
    "print(s[0 : ])"
   ],
   "execution_count": null,
   "outputs": []
  },
  {
   "cell_type": "markdown",
   "metadata": {
    "id": "oveBAv8Pz6oR"
   },
   "source": [
    "#### $\\color{dodgerblue}{\\text{Exercise!}}$\n",
    "Print the exclamation mark (`!`) that is the last character in the string defined under `s`."
   ]
  },
  {
   "cell_type": "code",
   "metadata": {
    "id": "W5o9gLCHz53U"
   },
   "source": [
    "s = \"Hello World!\"\n",
    "print(s[len(s) - 1]) # The expected output is '!'"
   ],
   "execution_count": null,
   "outputs": []
  },
  {
   "cell_type": "markdown",
   "metadata": {
    "id": "FnCYSDa90-0d"
   },
   "source": [
    "Luckily, we don't need to use the number of characters in a string to index specific characters or sets of characters towards the end of the string, we can simply use end-based indexing. The last character in a collection is indexed at -1, the second to last at -2, and so on and so forth.\n",
    "\n",
    "To make sense of end-based indexing we can think of it as *the number of elements after a specific index*, there are exactly 0 elements after the element in the last index (-1), and 1 element after the element in the second to last index (-2)."
   ]
  },
  {
   "cell_type": "markdown",
   "source": [
    "Experiment with the following code to get a better understanding of end-based indexing."
   ],
   "metadata": {
    "collapsed": false
   }
  },
  {
   "cell_type": "code",
   "metadata": {
    "id": "rp-VDTMS1h9R"
   },
   "source": [
    "s = \"Hello World!\"\n",
    "print(s[-6:]) # The expected output is 'World!'"
   ],
   "execution_count": null,
   "outputs": []
  },
  {
   "cell_type": "markdown",
   "metadata": {
    "id": "8W9ZLphP2sVG"
   },
   "source": [
    "One last thing to know about string indexing is that the step size of indexing a slice can be specified (i.e., `[start:stop:step]`). \n",
    "\n",
    "By default, we are implicitly using a step size of `1`. However, we can use other values to skip every fixed number of characters."
   ]
  },
  {
   "cell_type": "code",
   "metadata": {
    "colab": {
     "base_uri": "https://localhost:8080/"
    },
    "id": "kUcwnYYP3Hm-",
    "executionInfo": {
     "status": "ok",
     "timestamp": 1632857365973,
     "user_tz": -180,
     "elapsed": 280,
     "user": {
      "displayName": "Eitan Hemed",
      "photoUrl": "https://lh3.googleusercontent.com/a-/AOh14GgjTbd1GSnhSQvJi3Wwmdj-WayQxZh7tE-36k6hfg=s64",
      "userId": "11035653591450038643"
     }
    },
    "outputId": "bdc66f6f-3e19-4a4c-b556-0e08559e21e8"
   },
   "source": [
    "s = \"Hello World!\"\n",
    "# Indexing between the first and last character (excluding)\n",
    "#  skipping every 2nd character\n",
    "print(s[0 : -1 : 2])"
   ],
   "execution_count": null,
   "outputs": []
  },
  {
   "cell_type": "code",
   "execution_count": null,
   "outputs": [],
   "source": [
    "s = \"Hello World!\"\n",
    "# Less verbose by dropping the start and stop arguments,\n",
    "print(s[::2])"
   ],
   "metadata": {
    "collapsed": false
   }
  },
  {
   "cell_type": "markdown",
   "metadata": {
    "id": "X76iv0K2366n"
   },
   "source": [
    "\n",
    "A negative step size would traverse the string in the opposite direction.\n",
    "\n",
    "#### $\\color{dodgerblue}{\\text{Exercise!}}$\n",
    "A palindrome is a sentance or a word that is the same when written in reverse. Test if the following strings are palindromes or not, by printing the truth value of the comparison. "
   ]
  },
  {
   "cell_type": "code",
   "metadata": {
    "id": "xOqLPHQ92r5Y"
   },
   "source": [
    "s1 = 'kayak'\n",
    "is_s1_a_palindrome = (s1 == s1[::-1])\n",
    "print(is_s1_a_palindrome)"
   ],
   "execution_count": null,
   "outputs": []
  },
  {
   "cell_type": "markdown",
   "metadata": {
    "id": "8FgPu3KX6qPY"
   },
   "source": [
    "Finally, given a string has a specific length, trying to index characters that are not within it's length would lead to an error."
   ]
  },
  {
   "cell_type": "code",
   "metadata": {
    "id": "zx35bR7p6yTb"
   },
   "source": [
    "\"This sentence is composed of 42 characters\"[45]"
   ],
   "execution_count": null,
   "outputs": []
  },
  {
   "cell_type": "markdown",
   "source": [
    "As a side note, slices are an actual data type in Python, and can be used to represent a range of values. You can create a `slice` object by using the built-in `slice` function, and then use it to index various collections."
   ],
   "metadata": {
    "collapsed": false
   }
  },
  {
   "cell_type": "code",
   "outputs": [],
   "source": [
    "s1 = \"Hello World!\"\n",
    "s2 = \"This is a sentence\"\n",
    "\n",
    "# Create a slice object, from the first index, up to the sixth index, skipping every second character\n",
    "slc = slice(0, 5, 2)\n",
    "\n",
    "print(s1[slc])\n",
    "print(s2[slc])"
   ],
   "metadata": {
    "collapsed": false
   },
   "execution_count": null
  },
  {
   "cell_type": "markdown",
   "metadata": {
    "id": "YUZ4SGfb6eyn"
   },
   "source": [
    "#### String mutability\n",
    "String are immutable objects, meaning that once created, individual characters or slices within the string cannot be changed, and this would lead to an error. Down the road we will encounter mutable collections. \n",
    "\n",
    "\n"
   ]
  },
  {
   "cell_type": "code",
   "metadata": {
    "id": "GrtyQxUz7xzD"
   },
   "source": [
    "s = 'kayak'\n",
    "s[0] = 'K'"
   ],
   "execution_count": null,
   "outputs": []
  },
  {
   "cell_type": "markdown",
   "metadata": {
    "id": "-DWsH2ma8E7-"
   },
   "source": [
    "#### Common string operations and methods\n"
   ]
  },
  {
   "cell_type": "markdown",
   "source": [
    "You might have heard that In Python, everything is an object. \n",
    "\n",
    "Broadly speaking, objects are entities which have attributes and methods. \n",
    "\n",
    "Attributes are properties of the object (i.e., \"things the object knows\"). \n",
    "\n",
    "Methods are functions that are bound to the object (\"things the object can do\"). To add more to the confusion, functions are also objects in Python.\n",
    "\n",
    "\n",
    "-------------\n",
    "\n",
    "Accessing an attribute of an object is done by using the dot (`.`) operator, followed by the attribute name. As methods are functions, they can be called by using the dot (`.`) operator, followed by the method name and parentheses.\n",
    "\n",
    "Strings include several methods that can be used to manipulate them."
   ],
   "metadata": {
    "collapsed": false
   }
  },
  {
   "cell_type": "markdown",
   "metadata": {
    "id": "EpnYmczs8QfU"
   },
   "source": [
    "One example is string capitalization, achieved by using the `upper`, `lower` and 'title' methods."
   ]
  },
  {
   "cell_type": "code",
   "metadata": {
    "colab": {
     "base_uri": "https://localhost:8080/"
    },
    "id": "RrjganIN8qof",
    "executionInfo": {
     "status": "ok",
     "timestamp": 1632858530613,
     "user_tz": -180,
     "elapsed": 380,
     "user": {
      "displayName": "Eitan Hemed",
      "photoUrl": "https://lh3.googleusercontent.com/a-/AOh14GgjTbd1GSnhSQvJi3Wwmdj-WayQxZh7tE-36k6hfg=s64",
      "userId": "11035653591450038643"
     }
    },
    "outputId": "4dc7eb60-ce39-4a9f-b55b-75c890d8e257"
   },
   "source": [
    "lower_case = 'some letters'\n",
    "upper_case = lower_case.upper()\n",
    "print(upper_case)\n",
    "lower_case_2 = upper_case.lower()\n",
    "print(lower_case_2)\n",
    "titled = lower_case.title()\n",
    "print(titled)"
   ],
   "execution_count": null,
   "outputs": []
  },
  {
   "cell_type": "markdown",
   "source": [
    "We have mentioned that strings are immutable, so the methods we used above do not change the original string, but rather return a new object. We can see that by comparing the two strings below, and then explicitly checking if they are the same variable using the `is` operator."
   ],
   "metadata": {
    "collapsed": false
   }
  },
  {
   "cell_type": "code",
   "outputs": [],
   "source": [
    "lower_case == lower_case_2"
   ],
   "metadata": {
    "collapsed": false
   },
   "execution_count": null
  },
  {
   "cell_type": "code",
   "outputs": [],
   "source": [
    "lower_case is lower_case_2"
   ],
   "metadata": {
    "collapsed": false
   },
   "execution_count": null
  },
  {
   "cell_type": "markdown",
   "metadata": {
    "id": "coua9dYv9G0-"
   },
   "source": [
    "Strings can be concatenated. We do this mostly using the `+` operator. The operator performs a different action when flanked by two strings, rather than numeric types.\n",
    "\n",
    "This operation behind the scene calls a string method called `__add__` that is defined for strings. Part of the appeal of Python is hiding away these details from the user, and allowing them to use the same syntax for different types of objects (i.e., integer addition and string concatenation)."
   ]
  },
  {
   "cell_type": "code",
   "metadata": {
    "colab": {
     "base_uri": "https://localhost:8080/"
    },
    "id": "RyVP9R5Y-m7U",
    "executionInfo": {
     "status": "ok",
     "timestamp": 1632858991061,
     "user_tz": -180,
     "elapsed": 426,
     "user": {
      "displayName": "Eitan Hemed",
      "photoUrl": "https://lh3.googleusercontent.com/a-/AOh14GgjTbd1GSnhSQvJi3Wwmdj-WayQxZh7tE-36k6hfg=s64",
      "userId": "11035653591450038643"
     }
    },
    "outputId": "1b73aa71-c645-42de-e0cb-6ec5ccb7e3ff"
   },
   "source": [
    "print('Hello' + ' ' + 'World!')"
   ],
   "execution_count": null,
   "outputs": []
  },
  {
   "cell_type": "markdown",
   "metadata": {
    "id": "njb7BI3H-2_z"
   },
   "source": [
    "Another operator overloading that is defined for strings is multiplication, simply repeating the string for the specified number of times. "
   ]
  },
  {
   "cell_type": "code",
   "metadata": {
    "id": "jaEfm10J-xoX"
   },
   "source": [
    "'La ' * 3 # However, multiplying by a float (e.g., 3.0) would not work"
   ],
   "execution_count": null,
   "outputs": []
  },
  {
   "cell_type": "markdown",
   "metadata": {
    "id": "tuABiEgY_D-G"
   },
   "source": [
    "You cannot  add a string and a numeric type."
   ]
  },
  {
   "cell_type": "code",
   "metadata": {
    "id": "p2axKqit_Dkn"
   },
   "source": [
    "3 + \"5\""
   ],
   "execution_count": null,
   "outputs": []
  },
  {
   "cell_type": "markdown",
   "metadata": {
    "id": "9XqxDCMH_YGA"
   },
   "source": [
    "But you can change the data type of a numeric type into a string, or the other way around, using the built-in functions `str`, `int`, `float` etc."
   ]
  },
  {
   "cell_type": "code",
   "metadata": {
    "colab": {
     "base_uri": "https://localhost:8080/"
    },
    "id": "880BSPeM_XOH",
    "executionInfo": {
     "status": "ok",
     "timestamp": 1632859246892,
     "user_tz": -180,
     "elapsed": 315,
     "user": {
      "displayName": "Eitan Hemed",
      "photoUrl": "https://lh3.googleusercontent.com/a-/AOh14GgjTbd1GSnhSQvJi3Wwmdj-WayQxZh7tE-36k6hfg=s64",
      "userId": "11035653591450038643"
     }
    },
    "outputId": "c836c9d9-97fa-45f6-89ef-58037086e714"
   },
   "source": [
    "print(str(3) + \"2\",\n",
    "    (int(\"3\") + float(\"5.2\")))"
   ],
   "execution_count": null,
   "outputs": []
  },
  {
   "cell_type": "markdown",
   "metadata": {
    "id": "iSXAVla3_6Y0"
   },
   "source": [
    "#### String formatting\n",
    "Formatted strings are \"templates\" that receive different values, which are integrated into the string. There are several ways to format a string. "
   ]
  },
  {
   "cell_type": "markdown",
   "metadata": {
    "id": "vqCA3bETAmhQ"
   },
   "source": [
    "The most common method today is called f-strings. They use curly brackets to refer to already defined variables, or even contain whole expressions."
   ]
  },
  {
   "cell_type": "code",
   "metadata": {
    "colab": {
     "base_uri": "https://localhost:8080/"
    },
    "id": "JGEjiUtYAlvB",
    "executionInfo": {
     "status": "ok",
     "timestamp": 1632859601519,
     "user_tz": -180,
     "elapsed": 287,
     "user": {
      "displayName": "Eitan Hemed",
      "photoUrl": "https://lh3.googleusercontent.com/a-/AOh14GgjTbd1GSnhSQvJi3Wwmdj-WayQxZh7tE-36k6hfg=s64",
      "userId": "11035653591450038643"
     }
    },
    "outputId": "3785e4d7-1ee0-4b7a-ebea-4fcf4cca4b00"
   },
   "source": [
    "x = 3 \n",
    "y = 5\n",
    "s = f'The sum of x and y is {x + y}'\n",
    "print(s)"
   ],
   "execution_count": null,
   "outputs": []
  },
  {
   "cell_type": "markdown",
   "metadata": {
    "id": "RppRgsDdBGkl"
   },
   "source": [
    "Formatted strings are highly effective when preparing automated reports (i.e., writing a script which runs some statistical analysis and generates a formatted report). \n",
    "\n",
    "As a researcher, think of the utility enabled by the following:"
   ]
  },
  {
   "cell_type": "code",
   "metadata": {
    "colab": {
     "base_uri": "https://localhost:8080/",
     "height": 35
    },
    "id": "uKeRJRA_BgAL",
    "executionInfo": {
     "status": "ok",
     "timestamp": 1632859937150,
     "user_tz": -180,
     "elapsed": 332,
     "user": {
      "displayName": "Eitan Hemed",
      "photoUrl": "https://lh3.googleusercontent.com/a-/AOh14GgjTbd1GSnhSQvJi3Wwmdj-WayQxZh7tE-36k6hfg=s64",
      "userId": "11035653591450038643"
     }
    },
    "outputId": "3da03640-a1b0-4218-89a5-095566ef6027"
   },
   "source": [
    "Z = 1.98\n",
    "p = 0.005\n",
    "df = 40\n",
    "bf = 10050.352\n",
    "\n",
    "f\"The difference significant [Z({40:.0f}) = {Z:.2f}, p-value = {p}] and the Bayes factor 1:0 was {bf:2e}\" "
   ],
   "execution_count": null,
   "outputs": []
  },
  {
   "cell_type": "markdown",
   "source": [
    "Note that we have used specific notation for formatting the numbers `:.xf` denotes that the number should be formatted as a float with `x` decimal points. \n",
    "\n",
    "`:.xe` denotes that the number should be formatted in scientific notation with `x` decimal points."
   ],
   "metadata": {
    "collapsed": false
   }
  },
  {
   "cell_type": "markdown",
   "source": [
    "We have seen above that we can use curly brackets and an equal sign to easily print an expression and its value. "
   ],
   "metadata": {
    "collapsed": false
   }
  },
  {
   "cell_type": "code",
   "outputs": [],
   "source": [
    "print(f\"{1 + 3 = } \")"
   ],
   "metadata": {
    "collapsed": false
   },
   "execution_count": null
  },
  {
   "cell_type": "markdown",
   "metadata": {
    "id": "mO_156w_DSuO"
   },
   "source": [
    "A different way to format strings is by calling the string method called `format`. Each way has its use-cases, and you can read more about it [here](https://realpython.com/python-string-formatting/)."
   ]
  },
  {
   "cell_type": "code",
   "metadata": {
    "colab": {
     "base_uri": "https://localhost:8080/",
     "height": 35
    },
    "id": "rxcKQpTAAVq_",
    "executionInfo": {
     "status": "ok",
     "timestamp": 1632860297901,
     "user_tz": -180,
     "elapsed": 361,
     "user": {
      "displayName": "Eitan Hemed",
      "photoUrl": "https://lh3.googleusercontent.com/a-/AOh14GgjTbd1GSnhSQvJi3Wwmdj-WayQxZh7tE-36k6hfg=s64",
      "userId": "11035653591450038643"
     }
    },
    "outputId": "5d0e6df6-6347-47f5-c9d2-b4a0935b70d7"
   },
   "source": [
    "x, y, z = 3, 5, 10\n",
    "\"The value of x is {}, the value of y is {}, their sum is {}, and not {z_var}\".format(x, y, x+y,\n",
    "                                                                                      z_var=z)"
   ],
   "execution_count": null,
   "outputs": []
  },
  {
   "cell_type": "markdown",
   "source": [
    "For this method you can combine variables referenced by their name (`{z_var}`) and by their order (as with `x`)."
   ],
   "metadata": {
    "collapsed": false
   }
  },
  {
   "cell_type": "markdown",
   "metadata": {
    "id": "8uQfIEbqr7wr"
   },
   "source": [
    "#### Unicode\n",
    "\n",
    "In Python 3 strings are by default unicode characters. This means that they can potentially contain any unicode character. This allows you to easily use non-latin characters and even emojis."
   ]
  },
  {
   "cell_type": "code",
   "metadata": {
    "colab": {
     "base_uri": "https://localhost:8080/"
    },
    "id": "F8fZH2NVsEoL",
    "executionInfo": {
     "status": "ok",
     "timestamp": 1632923006800,
     "user_tz": -180,
     "elapsed": 342,
     "user": {
      "displayName": "Eitan Hemed",
      "photoUrl": "https://lh3.googleusercontent.com/a-/AOh14GgjTbd1GSnhSQvJi3Wwmdj-WayQxZh7tE-36k6hfg=s64",
      "userId": "11035653591450038643"
     }
    },
    "outputId": "49652acd-41ed-42b1-df66-e59d83465e6a"
   },
   "source": [
    "s = ( # Specifying the character name\n",
    "    \"\\N{GREEK SMALL LETTER PSI} \\n\" \n",
    "     # Specifying the unicode character code\n",
    "      \"\\U0001F44C \\n\"\n",
    "     # Just plain characters\n",
    "      \"The University of Haifa - אוניברסיטת חיפה - جامعة حيفا \\n\" \n",
    "     # Using an emoji name\n",
    "      \"\\N{Snake}\")\n",
    "print(s)"
   ],
   "execution_count": null,
   "outputs": []
  },
  {
   "cell_type": "markdown",
   "metadata": {
    "id": "N7Nas-8Vy9HO"
   },
   "source": [
    "Note that the strings included this expression `\\n`. The backslash marks to Python that the following is a special character. Specifically `\\n` is a newline character, but there are others as well. If you want to actually write the expression `\\n` in a string, you will need to use another backslash."
   ]
  },
  {
   "cell_type": "code",
   "metadata": {
    "colab": {
     "base_uri": "https://localhost:8080/"
    },
    "id": "S-LyoULUzwDT",
    "executionInfo": {
     "status": "ok",
     "timestamp": 1632923407774,
     "user_tz": -180,
     "elapsed": 418,
     "user": {
      "displayName": "Eitan Hemed",
      "photoUrl": "https://lh3.googleusercontent.com/a-/AOh14GgjTbd1GSnhSQvJi3Wwmdj-WayQxZh7tE-36k6hfg=s64",
      "userId": "11035653591450038643"
     }
    },
    "outputId": "515a48c7-9cce-4f88-9e75-648393a08a96"
   },
   "source": [
    "print(\"This is a \\t tab\")\n",
    "print(\"Here is new \\n-line\")\n",
    "print(\"These do nothing \\\\t \\\\n\")"
   ],
   "execution_count": null,
   "outputs": []
  },
  {
   "cell_type": "markdown",
   "source": [
    "This issue can be very frustrating if you are using Windows and wish to read, write or manipulate some file. That is because file paths are written with backslashes (`C:\\Users\\User\\Desktop\\data.xlsx'`) rather than forward slashes (`/`). \n",
    "\n",
    "To avoid this, you can use the `r` prefix, which tells Python to treat the string as a raw string, and ignore special characters, double the backslashes (to indicate escape of the special character), or specify the path using forward slashes. There are more advanced methods, of course. "
   ],
   "metadata": {
    "collapsed": false
   }
  },
  {
   "cell_type": "markdown",
   "metadata": {
    "id": "sb7Otz03ECJt"
   },
   "source": [
    "### Lists"
   ]
  },
  {
   "cell_type": "markdown",
   "metadata": {
    "id": "7IG7-Kulrndw"
   },
   "source": [
    "Lists are mutable, ordered collections of hetrogenous objects (i.e., unlike strings that contain only strings). We can construct a list by using square brackets."
   ]
  },
  {
   "cell_type": "code",
   "metadata": {
    "colab": {
     "base_uri": "https://localhost:8080/"
    },
    "id": "j-osF-hDxghW",
    "executionInfo": {
     "status": "ok",
     "timestamp": 1632922900618,
     "user_tz": -180,
     "elapsed": 324,
     "user": {
      "displayName": "Eitan Hemed",
      "photoUrl": "https://lh3.googleusercontent.com/a-/AOh14GgjTbd1GSnhSQvJi3Wwmdj-WayQxZh7tE-36k6hfg=s64",
      "userId": "11035653591450038643"
     }
    },
    "outputId": "7011ba28-7719-4b35-bc8a-eacdc3b861b1"
   },
   "source": [
    "empty_list = []\n",
    "nonempty_list = [1, 3, \"Hi!\", 5000]\n",
    "print(empty_list)\n",
    "print(nonempty_list)"
   ],
   "execution_count": null,
   "outputs": []
  },
  {
   "cell_type": "markdown",
   "metadata": {
    "id": "UVB59MXYyj32"
   },
   "source": [
    "We can also create a list using the built-in `list` function. We usually do this when creating a list from another collection, like a string. If you only call `list()` you would get an empty list."
   ]
  },
  {
   "cell_type": "code",
   "metadata": {
    "colab": {
     "base_uri": "https://localhost:8080/"
    },
    "id": "E1Dl2peYyJvW",
    "executionInfo": {
     "status": "ok",
     "timestamp": 1632923495664,
     "user_tz": -180,
     "elapsed": 269,
     "user": {
      "displayName": "Eitan Hemed",
      "photoUrl": "https://lh3.googleusercontent.com/a-/AOh14GgjTbd1GSnhSQvJi3Wwmdj-WayQxZh7tE-36k6hfg=s64",
      "userId": "11035653591450038643"
     }
    },
    "outputId": "a5747418-8810-4d9f-cbcb-168e59bb6bc7"
   },
   "source": [
    "chars = list('many chars')\n",
    "print(chars)"
   ],
   "execution_count": null,
   "outputs": []
  },
  {
   "cell_type": "markdown",
   "metadata": {
    "id": "cet9TPIm0_Gx"
   },
   "source": [
    "Lists are usfeul when we want to group and store items. Similar to strings we can retrieve specific items from a list using indices. "
   ]
  },
  {
   "cell_type": "code",
   "metadata": {
    "colab": {
     "base_uri": "https://localhost:8080/",
     "height": 36
    },
    "id": "8Yvm7sbn1G9v",
    "executionInfo": {
     "status": "ok",
     "timestamp": 1632923690367,
     "user_tz": -180,
     "elapsed": 281,
     "user": {
      "displayName": "Eitan Hemed",
      "photoUrl": "https://lh3.googleusercontent.com/a-/AOh14GgjTbd1GSnhSQvJi3Wwmdj-WayQxZh7tE-36k6hfg=s64",
      "userId": "11035653591450038643"
     }
    },
    "outputId": "f22d8234-caeb-4b5f-84c9-6150ce16df0c"
   },
   "source": [
    "departments = ['Psychology', 'Geography', 'Political Science']\n",
    "departments[-1]"
   ],
   "execution_count": null,
   "outputs": []
  },
  {
   "cell_type": "markdown",
   "metadata": {
    "id": "HvPuwlLm1tGB"
   },
   "source": [
    "#### $\\color{dodgerblue}{\\text{Exercise!}}$\n",
    "\n",
    "Lists are very flexible, as they allow us to group together objects from different data types, and even lists at variable lengths (or lists within lists). We'll see later that this flexibility comes at a cost.\n",
    "\n",
    "We can chain indexing operations to retrieve specific indices.\n",
    "Complete the code below to print the string `'C D'`."
   ]
  },
  {
   "cell_type": "code",
   "metadata": {
    "id": "tW60gXv62OuS"
   },
   "source": [
    "letters = 'ABC DEF'\n",
    "digits = [1, 2, 3, 4, 5, 6]\n",
    "chars = [letters, digits]\n",
    "print(chars[0][2 : 5])"
   ],
   "execution_count": null,
   "outputs": []
  },
  {
   "cell_type": "markdown",
   "metadata": {
    "id": "1DJd8AdT35pA"
   },
   "source": [
    "#### $\\color{dodgerblue}{\\text{Exercise!}}$\n",
    "\n",
    "Once created, we can mutate lists by using indexing operation (i.e., `var[0]`) and an assignment. \n",
    "\n",
    "Complete the code below, so it would print \"Hello-world-!\""
   ]
  },
  {
   "cell_type": "code",
   "metadata": {
    "id": "8Fths27f4RKM"
   },
   "source": [
    "text = ['Hello', 457, '!']\n",
    "text[1] = 'World'\n",
    "print('-'.join(text))"
   ],
   "execution_count": null,
   "outputs": []
  },
  {
   "cell_type": "markdown",
   "metadata": {
    "id": "zELa_5_q4u-z"
   },
   "source": [
    "We used a string method called `join` that receives a list (or another collection) and pasts the string between each element in the input."
   ]
  },
  {
   "cell_type": "markdown",
   "metadata": {
    "id": "znKSXEHA5P0i"
   },
   "source": [
    "As we've seen, lists can be mutated using indexing and assignment, however, there are also dedicated method. These methods are slightly different from what we've seen before, as they mutate they object in-place rather than returning a new object. Here is a demonstration of what this means."
   ]
  },
  {
   "cell_type": "code",
   "metadata": {
    "colab": {
     "base_uri": "https://localhost:8080/"
    },
    "id": "m0H26LkD5PVF",
    "executionInfo": {
     "status": "ok",
     "timestamp": 1632925046027,
     "user_tz": -180,
     "elapsed": 377,
     "user": {
      "displayName": "Eitan Hemed",
      "photoUrl": "https://lh3.googleusercontent.com/a-/AOh14GgjTbd1GSnhSQvJi3Wwmdj-WayQxZh7tE-36k6hfg=s64",
      "userId": "11035653591450038643"
     }
    },
    "outputId": "70f71179-9950-4a60-d753-be0633b34c6e"
   },
   "source": [
    "x = ['a']\n",
    "x.append(5) # No reassignment\n",
    "print(f'x is {x}')"
   ],
   "execution_count": null,
   "outputs": []
  },
  {
   "cell_type": "markdown",
   "source": [
    "#### $\\color{dodgerblue}{\\text{Exercise!}}$\n",
    "\n",
    "What would be the outcome of re-assigning the result of `append` call onto a variable? Check the `type` of the variable `x` after running the code below."
   ],
   "metadata": {
    "collapsed": false
   }
  },
  {
   "cell_type": "code",
   "execution_count": null,
   "outputs": [],
   "source": [
    "x = ['a']\n",
    "x = x.append(5)\n",
    "print(f'x is now {type(x)}')"
   ],
   "metadata": {
    "collapsed": false
   }
  },
  {
   "cell_type": "markdown",
   "source": [
    "`None` is a dedicated null value in Python. When a function (or a method) mutates an object in-place rather than returning a new object, it implicitly returns `None`."
   ],
   "metadata": {
    "collapsed": false
   }
  },
  {
   "cell_type": "markdown",
   "source": [
    "\n",
    "\n",
    "Here are additional `List` methods, used to modify and retrieve information about the items in a list.\n",
    "\n"
   ],
   "metadata": {
    "collapsed": false
   }
  },
  {
   "cell_type": "code",
   "metadata": {
    "id": "OLOArkLs7j6F"
   },
   "source": [
    "# Create a list\n",
    "_ = list('aaaa_bbbbc')\n",
    "\n",
    "print(_)\n",
    "\n",
    "# Remove and return the last element\n",
    "last_element = _.pop()\n",
    "print(f'The removed item was {last_element}')\n",
    "\n",
    "a_count = _.count('a')\n",
    "print(f'The number of occurrences for a in the list is {a_count}')\n",
    "\n",
    "# Get the index of the first occurrence of b\n",
    "b_index = _.index('b')\n",
    "print(f'The first occurrences of b in the list is in index {b_index}')"
   ],
   "execution_count": null,
   "outputs": []
  },
  {
   "cell_type": "markdown",
   "metadata": {
    "id": "gMnlSeLVEDxR"
   },
   "source": [
    "### Dictionaries\n",
    "\n",
    "Dictionaries are unordered, mutable, collections of mappings between keys and values (just like a dictionary). \n",
    "\n",
    "Dictionaries can created using the following syntax brackets `{k1 : v1, k2: v2}`."
   ]
  },
  {
   "cell_type": "code",
   "metadata": {
    "colab": {
     "base_uri": "https://localhost:8080/"
    },
    "id": "8cw3RxkeWcMN",
    "executionInfo": {
     "status": "ok",
     "timestamp": 1632932559800,
     "user_tz": -180,
     "elapsed": 301,
     "user": {
      "displayName": "Eitan Hemed",
      "photoUrl": "https://lh3.googleusercontent.com/a-/AOh14GgjTbd1GSnhSQvJi3Wwmdj-WayQxZh7tE-36k6hfg=s64",
      "userId": "11035653591450038643"
     }
    },
    "outputId": "8eb7b33f-fdae-4fd8-f5c8-a891044436ca"
   },
   "source": [
    "d = {'a': 1, \n",
    "     5: 'ZZZ', \n",
    "     3.45: ['a', 'b', 'c']}\n",
    "print(d.keys()) # The keys in a dictionary\n",
    "print(d.values()) # The values in a dictionary\n",
    "print(d.items()) # The items in a dictionary\n",
    "\n",
    "print({}) # Empty dictionary"
   ],
   "execution_count": null,
   "outputs": []
  },
  {
   "cell_type": "markdown",
   "metadata": {
    "id": "yLeqJMK2W6Sm"
   },
   "source": [
    "A key in a dictionary has to be a unique. Using the same key will 'overwrite' the previous key:value pair. "
   ]
  },
  {
   "cell_type": "code",
   "metadata": {
    "id": "5Z1AeACVXbiF"
   },
   "source": [
    "d = {'Year': 2021, 'Month': 'September'}\n",
    "print(f\"The current month is: {d['Month']}\")\n",
    "d['Month'] = 9 # Indexing via the `Month` key we reassign the value under it.\n",
    "print(f\"The current month is: {d['Month']}\")"
   ],
   "execution_count": null,
   "outputs": []
  },
  {
   "cell_type": "markdown",
   "metadata": {
    "id": "CwzatUlVXCHP"
   },
   "source": [
    "A dictionary key has to be an immutable object, like a string or an integer (but not a list). The type of the value under each key is unrestricted. \n",
    "\n"
   ]
  },
  {
   "cell_type": "code",
   "metadata": {
    "id": "3J7kqMjcYINP"
   },
   "source": [
    "d = {['a']: False}"
   ],
   "execution_count": null,
   "outputs": []
  },
  {
   "cell_type": "markdown",
   "metadata": {
    "id": "ERHk-ocfY7OG"
   },
   "source": [
    "Dictionaries can also be formed using the built-in `dict` function (note that you can only use it to define string-type keys). \n",
    "\n",
    "New entries can be added through indexing and assignment or the `update` method\n",
    "\n",
    "\n",
    "Querying the dictionary for an inexistent key would return a `KeyError`."
   ]
  },
  {
   "cell_type": "code",
   "metadata": {
    "id": "wSA5dUxIY__l"
   },
   "source": [
    "d = dict(name='Eitan') \n",
    "d['university'] = 'Haifa'\n",
    "d.update(status='Postdoc') # d is modified in-place\n",
    "print(d)\n",
    "d['department']"
   ],
   "execution_count": null,
   "outputs": []
  },
  {
   "cell_type": "markdown",
   "metadata": {
    "id": "o9tqUq3QYtJP"
   },
   "source": [
    "A useful method of dictionaries is `get`,\n",
    "it allows you to query a dictionary for a key, and return a default value in case the key is not defined in the dictionary. The default value for an undefined key is `None`."
   ]
  },
  {
   "cell_type": "code",
   "metadata": {
    "colab": {
     "base_uri": "https://localhost:8080/"
    },
    "id": "Ouz9f8pEYsjx",
    "executionInfo": {
     "status": "ok",
     "timestamp": 1632933591295,
     "user_tz": -180,
     "elapsed": 261,
     "user": {
      "displayName": "Eitan Hemed",
      "photoUrl": "https://lh3.googleusercontent.com/a-/AOh14GgjTbd1GSnhSQvJi3Wwmdj-WayQxZh7tE-36k6hfg=s64",
      "userId": "11035653591450038643"
     }
    },
    "outputId": "3f1e5f79-a3fa-4fe6-dd50-170c6be52ad4"
   },
   "source": [
    "address = {'Country': 'Israel', 'City': 'Haifa'}\n",
    "# Default value for undefined keys\n",
    "print(address.get('Street'),\n",
    "      address.get('Street', 'Undefined street'), sep='\\n')"
   ],
   "execution_count": null,
   "outputs": []
  },
  {
   "cell_type": "markdown",
   "metadata": {
    "id": "hBs-9FgefhcW"
   },
   "source": [
    "Other features:\n",
    "\n",
    "As mentioned before, there is no limitation on the type of objects that can be assigned as dictionary values.\n",
    "\n",
    "References to dictionary keys can of course be stored in variables. \n",
    "\n",
    "The length of a dict is the number of key-value pairs."
   ]
  },
  {
   "cell_type": "code",
   "metadata": {
    "colab": {
     "base_uri": "https://localhost:8080/"
    },
    "id": "Eo2olcCSfhJ6",
    "executionInfo": {
     "status": "ok",
     "timestamp": 1632935517453,
     "user_tz": -180,
     "elapsed": 291,
     "user": {
      "displayName": "Eitan Hemed",
      "photoUrl": "https://lh3.googleusercontent.com/a-/AOh14GgjTbd1GSnhSQvJi3Wwmdj-WayQxZh7tE-36k6hfg=s64",
      "userId": "11035653591450038643"
     }
    },
    "outputId": "041c1bde-e0cc-435d-c76d-f57e2f5ddaae"
   },
   "source": [
    "lower_level_dict = {1: 'a', 'b': 3, 'non_empty_list': [{}, ]}\n",
    "top_level_dict = dict(lower=lower_level_dict, empty_list=[])\n",
    "\n",
    "print(\"Number of key-value pairs in top_level_dict: \"\n",
    "   f\"{len(top_level_dict['lower'])}\")\n",
    "\n",
    "key_to_lower_level_dict = 'lower'\n",
    "\n",
    "print(f\"\\nUsing the key '{key_to_lower_level_dict}', we retrieved this: \\n\"\n",
    "        f\"{top_level_dict[key_to_lower_level_dict]}\")"
   ],
   "execution_count": null,
   "outputs": []
  },
  {
   "cell_type": "markdown",
   "metadata": {
    "id": "p7y_Rk52EIsx"
   },
   "source": [
    "## Control Flow 1"
   ]
  },
  {
   "cell_type": "markdown",
   "metadata": {
    "id": "HCqY7iUVETIO"
   },
   "source": [
    "### if statements\n",
    "\n",
    "We previously said that in Python and object can be checked for its truth value, returning either `True` or `False`. \n",
    "\n",
    "#### $\\color{dodgerblue}{\\text{Exercise!}}$\n",
    "Print the truth value of the following objects. Use the built-in function `bool`. "
   ]
  },
  {
   "cell_type": "code",
   "metadata": {
    "id": "kG-qXJrhjGbv"
   },
   "source": [
    "print(\"The truth value of the following are: \")\n",
    "print(f\"Zero - {bool(0)}\",\n",
    "      f\"Empty list - {bool([])}\",\n",
    "      f\"Empty dictionary - {bool({})}\",\n",
    "      f\"None - {bool(None)}\",\n",
    "      f\"Empty string - {bool('')}\", sep='\\n')"
   ],
   "execution_count": null,
   "outputs": []
  },
  {
   "cell_type": "markdown",
   "metadata": {
    "id": "tJrp46snlFTn"
   },
   "source": [
    "As you've seen, the truth values of 0, None and empty collections (dictionary, list, string) are `False`. \n",
    "\n",
    "The truth values of virtually all other objects are `True`. \n",
    "\n",
    "\n",
    "\n",
    "---\n",
    "\n",
    "\n",
    "\n",
    "We can use truth values to control the flow of our program, using `if` and `else` statements. For example:"
   ]
  },
  {
   "cell_type": "code",
   "metadata": {
    "colab": {
     "base_uri": "https://localhost:8080/"
    },
    "id": "_IwQILGFkAc4",
    "executionInfo": {
     "status": "ok",
     "timestamp": 1632936588069,
     "user_tz": -180,
     "elapsed": 280,
     "user": {
      "displayName": "Eitan Hemed",
      "photoUrl": "https://lh3.googleusercontent.com/a-/AOh14GgjTbd1GSnhSQvJi3Wwmdj-WayQxZh7tE-36k6hfg=s64",
      "userId": "11035653591450038643"
     }
    },
    "outputId": "5cf33074-5749-4208-c1d3-0468ef57c869"
   },
   "source": [
    "fruits = ['Mango', 'Pears', 'Grapes']\n",
    "\n",
    "number_of_fruit_items = len(fruits)\n",
    "\n",
    "if number_of_fruit_items: # State our decision rule\n",
    "    print(fruits) # Define what should happen if the decision rule is True\n",
    "else: # Define what should happen if the decision rule is not fulfilled\n",
    "    print(\"No need to print an empty list.\") # If decision rule is False"
   ],
   "execution_count": null,
   "outputs": []
  },
  {
   "cell_type": "markdown",
   "source": [
    "#### $\\color{dodgerblue}{\\text{Exercise!}}$\n",
    "Modify the list on the previous cell such that it would print \"No need to print an empty list.\".\n"
   ],
   "metadata": {
    "collapsed": false
   }
  },
  {
   "cell_type": "markdown",
   "metadata": {
    "id": "j10bygH7mg8C"
   },
   "source": [
    "This is the first time that we encountered indention.\n",
    "\n",
    "    First level indention\n",
    "\n",
    "        Second level indention \n",
    "\n",
    "            Third level indention\n",
    "\n",
    "Indention is a key concept in Python and allows the interpreter to parse the code into different blocks of code. The standard is four spaces. Don't use tabs (in most text editors, the tab key is already set to insert four spaces). \n",
    "\n",
    " See here for [more conventions](https://www.python.org/dev/peps/pep-0008/#indentation) regarding code indention. "
   ]
  },
  {
   "cell_type": "code",
   "metadata": {
    "id": "uHKmY2SDnpK_"
   },
   "source": [
    "if \"Hellow world\":\n",
    " x = 3\n",
    " z = 3\n",
    "   y = 5"
   ],
   "execution_count": null,
   "outputs": []
  },
  {
   "cell_type": "markdown",
   "metadata": {
    "id": "OVlHKrLqqwtR"
   },
   "source": [
    "Code in the block nested under an `if` statement that is `False`, is not evaluated. Thus, we might miss an error such as refer to an inexistent variable. \n",
    "\n",
    "#### $\\color{dodgerblue}{\\text{Exercise}}$\n",
    "Complete the following code so that only the first and third blocks of code will be executed, and the second block will be skipped."
   ]
  },
  {
   "cell_type": "code",
   "metadata": {
    "id": "JVI0TsLqqwUw"
   },
   "source": [
    "this_variable_exists = [1, 2]\n",
    "\n",
    "if True:\n",
    "    # This is executed\n",
    "    print(this_variable_exists)\n",
    "if False:\n",
    "    # This isn't\n",
    "    print(this_variable_does_not_exist)\n",
    "else: \n",
    "    # This also will be executed!\n",
    "    print(this_variable_does_not_exist_as_well)"
   ],
   "execution_count": null,
   "outputs": []
  },
  {
   "cell_type": "markdown",
   "metadata": {
    "id": "hI7Bu1GFqNI-"
   },
   "source": [
    "We just saw you can chain multiple `if` statements. \n",
    "You can't chain two `else` statements. An `else` has to be preceded by `if` or `elif`.\n",
    "\n",
    "The code in the bock following an `elif` statement will be executed only if `elif` returns `True` and the preceding `if` returned `False`.\n",
    "\n",
    "\n",
    "#### $\\color{dodgerblue}{\\text{Exercise}}$\n",
    "Complete the following code so that the list `fruits` will be printed. Note that you can test if an item is in a collection using the `x in y` expression."
   ]
  },
  {
   "cell_type": "code",
   "metadata": {
    "colab": {
     "base_uri": "https://localhost:8080/"
    },
    "id": "pGEl2joGqM4u",
    "executionInfo": {
     "status": "ok",
     "timestamp": 1632940934283,
     "user_tz": -180,
     "elapsed": 289,
     "user": {
      "displayName": "Eitan Hemed",
      "photoUrl": "https://lh3.googleusercontent.com/a-/AOh14GgjTbd1GSnhSQvJi3Wwmdj-WayQxZh7tE-36k6hfg=s64",
      "userId": "11035653591450038643"
     }
    },
    "outputId": "fab4467c-110b-4d2c-f6e9-149460da0f15"
   },
   "source": [
    "fruits = ['Mango', 'Pears', 'Grapes']\n",
    "\n",
    "number_of_fruit_items = len(fruits)\n",
    "\n",
    "if number_of_fruit_items == 1: \n",
    "    print(\"There is only 1 fruit\")\n",
    "elif 'Banana' in fruits:\n",
    "    print(fruits)\n"
   ],
   "execution_count": null,
   "outputs": []
  },
  {
   "cell_type": "markdown",
   "metadata": {
    "id": "16XzrxWy4Iff"
   },
   "source": [
    "We can utilize logical operators we met earlier, such as `not`, `and` and `or` to change the truth value of a statement."
   ]
  },
  {
   "cell_type": "markdown",
   "metadata": {
    "id": "wJ7k2xDsElSX"
   },
   "source": [
    "## Functions\n",
    "\n",
    "Up until now we implicitly used functions, without ever defining functions on our own.\n",
    "\n",
    "Functions are objects which receive input (usually) and return output (usually).\n",
    "\n",
    "Functions are very useful whenever you want to obscure a lengthy operation or a re-do the same process many times, possibly with ability for slight modifications on each run.\n",
    "\n",
    "Functions are objects defined using the `def` statement. `def` statement is actually an assignment of a function object to a variable. \n",
    "\n"
   ]
  },
  {
   "cell_type": "code",
   "metadata": {
    "id": "lrHYIiP_5vGC"
   },
   "source": [
    "def perform_nothing(): # Function name\n",
    "    pass\n",
    "\n",
    "print(f\"silly_function is a {type(perform_nothing)}\") # f is currently a function\n",
    "\n",
    "perform_nothing() # Calling f\n",
    "perform_nothing() # Calling f again"
   ],
   "execution_count": null,
   "outputs": []
  },
  {
   "cell_type": "markdown",
   "source": [
    "Functions are objects. As such they can be passed to other functions, as input. Also, as functions are referenced via variables, they can be overwritten, when their name is assigned to a different object."
   ],
   "metadata": {
    "collapsed": false
   }
  },
  {
   "cell_type": "code",
   "execution_count": null,
   "outputs": [],
   "source": [
    "perform_nothing = 3\n",
    "print(f\"f is now a {type(perform_nothing)}\")"
   ],
   "metadata": {
    "collapsed": false
   }
  },
  {
   "cell_type": "markdown",
   "metadata": {
    "id": "x1Yy7bcM7O78"
   },
   "source": [
    "As functions usually describe a process, the convention is to name functions using verbs. \n",
    "\n",
    "According to the convention function names are all lower-case with words separated by underscores.\n"
   ]
  },
  {
   "cell_type": "markdown",
   "metadata": {
    "id": "0zDsu93x51Fm"
   },
   "source": [
    "#### $\\color{dodgerblue}{\\text{Exercise}}$\n",
    "The previous function did not have input arguments. We can set a function to accept input arguments.\n",
    "Complete the following function definition. "
   ]
  },
  {
   "cell_type": "code",
   "metadata": {
    "colab": {
     "base_uri": "https://localhost:8080/"
    },
    "id": "UJ3XlCs224aW",
    "executionInfo": {
     "status": "ok",
     "timestamp": 1632995668231,
     "user_tz": -180,
     "elapsed": 266,
     "user": {
      "displayName": "Eitan Hemed",
      "photoUrl": "https://lh3.googleusercontent.com/a-/AOh14GgjTbd1GSnhSQvJi3Wwmdj-WayQxZh7tE-36k6hfg=s64",
      "userId": "11035653591450038643"
     }
    },
    "outputId": "86c45e36-2597-4d7e-812c-d3d9bae5b3b8"
   },
   "source": [
    "def increment_by_2(a):\n",
    "    result = a + 2\n",
    "    return result\n",
    "\n",
    "increment_by_2(10) # should return 12"
   ],
   "execution_count": null,
   "outputs": []
  },
  {
   "cell_type": "markdown",
   "metadata": {
    "id": "CPrNtoWaHWHG"
   },
   "source": [
    "Variables defined outside a function, are available to the function. Even if they are not defined at the time the function is defined (as long as they will be defined prior to the first call to the function). \n",
    "\n",
    "Variables defined inside a function, which are either returned and not assigned to a variable or simply not returned cannot be references outside the function.\n",
    "\n",
    "This concept is called `scope`, and is otherwise out of the scope of this workshop.\n",
    "\n",
    "#### $\\color{green}{\\text{Sidenote}}$ \n",
    "Actually, you can declare a variable to be of global scope, making it accessible outside of the function's namespace without returning it. However, this practice is used rarely. Seperating the function's namespace from the global namespace is a good practice.\n",
    "\n",
    "See more [here](https://docs.python.org/3/faq/programming.html#what-are-the-rules-for-local-and-global-variables-in-python).\n"
   ]
  },
  {
   "cell_type": "code",
   "metadata": {
    "id": "OZxbvtWPHgdK"
   },
   "source": [
    "y = 3\n",
    "\n",
    "def increment_2(a):\n",
    "    a_incremented = a + 2\n",
    "    print(f\"I can print the length of a_incremented ({a_incremented}) from inside the function\")\n",
    "    print(f\"Also, y is {y}, although it wasn't defined inside the function.\")\n",
    "    print(f\"Also, x is {x}, although it was defined right after the function was defined.\")\n",
    "    return a_incremented\n",
    "\n",
    "x = []\n",
    "\n",
    "increment_2(10)\n",
    "\n",
    "print(f\"I can't print the length of {a_incremented} from outside the function.\")"
   ],
   "execution_count": null,
   "outputs": []
  },
  {
   "cell_type": "markdown",
   "metadata": {
    "id": "rVWSgnyr4CBm"
   },
   "source": [
    "We can have multiple return statements in a function, to handle different cases."
   ]
  },
  {
   "cell_type": "code",
   "metadata": {
    "id": "p2wvrGcm3kIh"
   },
   "source": [
    "def test_if_number_is_even(n):\n",
    "    if n % 2 == 0:\n",
    "        return \"Even\"\n",
    "    else:\n",
    "        return \"Odd\"\n",
    "\n",
    "for i in [0, -1, 1, 44]:\n",
    "    print(f\"{i} is {test_if_number_is_even(i)}\")"
   ],
   "execution_count": null,
   "outputs": []
  },
  {
   "cell_type": "markdown",
   "metadata": {
    "id": "LcjpDLUwBKt-"
   },
   "source": [
    "A function can call other built-in or user-defined function. It can also accept multiple arguments and return multiple results.\n",
    "\n",
    "#### $\\color{dodgerblue}{\\text{Exercise}}$\n",
    "Complete the following function definitions. \n",
    "\n"
   ]
  },
  {
   "cell_type": "code",
   "metadata": {
    "id": "zIFreZooBKHm"
   },
   "source": [
    "def raise_to_the_power(base, exp): # Multiply `base` by itself `exp` times\n",
    "    return base ** exp\n",
    "\n",
    "def test_if_negative(n):\n",
    "    return n < 0 # Check if the result is negative\n",
    "\n",
    "def process_number_power(number, exponent):\n",
    "    power = raise_to_the_power(number, exponent) # Call our first function\n",
    "    number_is_negative = test_if_negative(power) # Call our second function\n",
    "    return power, number_is_negative # Returning the results, can also be `return (power, ...)`"
   ],
   "execution_count": null,
   "outputs": []
  },
  {
   "cell_type": "markdown",
   "source": [
    "Note that `process_number_power` returns a `tuple` of two values. We can assign the results to a single variable:"
   ],
   "metadata": {
    "collapsed": false
   }
  },
  {
   "cell_type": "code",
   "execution_count": null,
   "outputs": [],
   "source": [
    "results_in_tuple = process_number_power(-3, 4)\n",
    "print(results_in_tuple) # Should print (81, False)"
   ],
   "metadata": {
    "collapsed": false
   }
  },
  {
   "cell_type": "markdown",
   "source": [
    "or to multiple variables:"
   ],
   "metadata": {
    "collapsed": false
   }
  },
  {
   "cell_type": "code",
   "execution_count": null,
   "outputs": [],
   "source": [
    "unpacked1, unpacked2 = process_number_power(-3, 3)\n",
    "print(unpacked1, unpacked2) # Should print (-27, True)"
   ],
   "metadata": {
    "collapsed": false
   }
  },
  {
   "cell_type": "markdown",
   "metadata": {
    "id": "L6jDPXMzNl-O"
   },
   "source": [
    "#### $\\color{green}{\\text{Sidenote}}$ \n",
    "When we reassigned the two arguments into `results_in_tuple`, we created a `tuple`. A `tuple` is an ordered collection that can contain different data types (like a list). However, tuples are immutable, meaning that they cannot be modified once created (but they can be used as keys in a dictionary).\n",
    "\n",
    "A tuple is defined using parentheses `(a, b, c)`. A common gotcha is that a tuple with a single element is defined using `(a,)` and not `(a)`.\n",
    "\n"
   ]
  },
  {
   "cell_type": "markdown",
   "metadata": {
    "id": "bxWJbkvbGEI2"
   },
   "source": [
    "\n",
    "### Keyword arguments\n",
    "Up until now we looked at *positional arguments*. They are ordered. Sometimes it is easier to use *keyword arguments*. Especially when we are creating a function with a large number of arguments.\n",
    "\n",
    "Keyword arguments can be set to a default. The best practice is to use an immutable value such as an integer, string or simply `None`."
   ]
  },
  {
   "cell_type": "code",
   "metadata": {
    "colab": {
     "base_uri": "https://localhost:8080/"
    },
    "id": "0nPbk8sjNXdU",
    "executionInfo": {
     "status": "ok",
     "timestamp": 1633001802221,
     "user_tz": -180,
     "elapsed": 661,
     "user": {
      "displayName": "Eitan Hemed",
      "photoUrl": "https://lh3.googleusercontent.com/a-/AOh14GgjTbd1GSnhSQvJi3Wwmdj-WayQxZh7tE-36k6hfg=s64",
      "userId": "11035653591450038643"
     }
    },
    "outputId": "71416723-5802-468a-9846-49313fe2f08b"
   },
   "source": [
    "def calculate_weekly_wage(\n",
    "    hourly_wage, hours_per_week=None, seniority_in_years=0,\n",
    "         wage_modifier_by_seniority=1):\n",
    "    return (hours_per_week * hourly_wage * \n",
    "        (wage_modifier_by_seniority ** seniority_in_years))\n",
    "\n",
    "hours = 35\n",
    "rate = 85.5\n",
    "\n",
    "print(f\"Working {hours} hours a week, amounts to about \"\n",
    "        f\"{calculate_weekly_wage(hourly_wage=rate, hours_per_week=hours)} over a week\")"
   ],
   "execution_count": null,
   "outputs": []
  },
  {
   "cell_type": "markdown",
   "source": [
    "#### $\\color{green}{\\text{Sidenote}}$\n",
    "Avoid using mutable objects as default values. The default value is evaluated only once, when the function is defined.\n",
    "If the default is a mutable object such as a list, and you mutate the object, the change is reflected in every call to the function. Then, your default value is no longer what you expect it to be.\n",
    "\n",
    "```\n",
    "def append_to(element, to=[]):\n",
    "    to.append(element)\n",
    "    return to\n",
    "\n",
    "# VS.\n",
    "\n",
    "def append_to(element, to=None):\n",
    "    if to is None:\n",
    "        to = []\n",
    "    to.append(element)\n",
    "    return to\n",
    "```\n"
   ],
   "metadata": {
    "collapsed": false
   }
  },
  {
   "cell_type": "markdown",
   "metadata": {
    "id": "r07jfO68UoIA"
   },
   "source": [
    "#### $\\color{dodgerblue}{\\text{Exercise}}$\n",
    "\n",
    "Now you will explore several ways of calling a function.\n",
    "\n",
    "Complete the code so that calls to `calculate_weekly_wage` will return the same values."
   ]
  },
  {
   "cell_type": "code",
   "metadata": {
    "id": "tzo7mXptUbl9"
   },
   "source": [
    "base_wage = 120.2\n",
    "hours_worked = 40\n",
    "years_on_job = 5\n",
    "seniority_modifier = 1.0025"
   ],
   "execution_count": null,
   "outputs": []
  },
  {
   "cell_type": "markdown",
   "source": [
    "Use positional arguments as we've done so far - as they name suggests for positional arguments, the order of the arguments matters."
   ],
   "metadata": {
    "collapsed": false
   }
  },
  {
   "cell_type": "code",
   "execution_count": null,
   "outputs": [],
   "source": [
    "wage1 = calculate_weekly_wage(base_wage, hours_worked,\n",
    "                              years_on_job, seniority_modifier)\n",
    "print(f\"The monthly wage is around \\N{New Sheqel Sign}{4 * wage1:.2f}.\")"
   ],
   "metadata": {
    "collapsed": false
   }
  },
  {
   "cell_type": "markdown",
   "source": [
    "Use keyword arguments. Note that the order of the arguments doesn't matter."
   ],
   "metadata": {
    "collapsed": false
   }
  },
  {
   "cell_type": "code",
   "execution_count": null,
   "outputs": [],
   "source": [
    "wage2 = calculate_weekly_wage(\n",
    "    base_wage, hours_worked,wage_modifier_by_seniority=seniority_modifier,\n",
    "                              seniority_in_years=years_on_job)"
   ],
   "metadata": {
    "collapsed": false
   }
  },
  {
   "cell_type": "markdown",
   "source": [
    "Use a dictionary to store the arguments and unpack it into the function call (\"explode\"). Note that this uses two stars (**) operators."
   ],
   "metadata": {
    "collapsed": false
   }
  },
  {
   "cell_type": "code",
   "execution_count": null,
   "outputs": [],
   "source": [
    "wage3_dict = {'hourly_wage': base_wage, 'hours_per_week': hours_worked,\n",
    "              'seniority_in_years': years_on_job,\n",
    "              'wage_modifier_by_seniority': seniority_modifier}\n",
    "wage3 = calculate_weekly_wage(**wage3_dict)"
   ],
   "metadata": {
    "collapsed": false
   }
  },
  {
   "cell_type": "markdown",
   "source": [
    "Use a list to store the arguments and unpack it into the function call. Note that this uses one star (*) operator."
   ],
   "metadata": {
    "collapsed": false
   }
  },
  {
   "cell_type": "code",
   "execution_count": null,
   "outputs": [],
   "source": [
    "wage4_list = [base_wage, hours_worked,\n",
    "                              years_on_job, seniority_modifier]\n",
    "wage4 = calculate_weekly_wage(*wage4_list)\n",
    "\n",
    "print(wage1 == wage2) # Should print True\n",
    "print(wage1 == wage3) # Should print True\n",
    "print(wage1 == wage4) # Should print True"
   ],
   "metadata": {
    "collapsed": false
   }
  },
  {
   "cell_type": "markdown",
   "source": [],
   "metadata": {
    "collapsed": false
   }
  },
  {
   "cell_type": "markdown",
   "metadata": {
    "id": "qBAQDmHbZfde"
   },
   "source": [
    "### Docstrings\n",
    "\n",
    "Docstrings are strings that are defined under functions (and some other objects) and used to document their behavior and usage. \n",
    "\n",
    "\n",
    "We can use the built-in `help` function to get the docstring out of a function. \n",
    "\n",
    "In many modern IDEs (or notebook-environments like Jupyter), you can hover over a function to view the docstring (or even open it in a new tab). "
   ]
  },
  {
   "cell_type": "code",
   "metadata": {
    "id": "xWjBeG6ZhWpm"
   },
   "source": [
    "# help(print)\n",
    "# help(len)\n",
    "# help(dict.update)"
   ],
   "execution_count": null,
   "outputs": []
  },
  {
   "cell_type": "markdown",
   "metadata": {
    "id": "qxDTUJC0hWUM"
   },
   "source": [
    "There are several styles to writing a docstring, but here is the style used by Google (not nessacrily the most frequent one).\n",
    "\n",
    "Regardless of style a docstring contain a brief non-technical summary, an extended summary (can be slightly more technical), the list of input arguments (hopefully with their types) and a description of the function's output. For scientific functions, it is also common that references to relevant papers describing the method are included.\n",
    "\n"
   ]
  },
  {
   "cell_type": "code",
   "metadata": {
    "id": "_K7Bjrk2cF9G"
   },
   "source": [
    "def calculate_weekly_wage(\n",
    "    hourly_wage, hours_per_week=None, seniority_in_years=0,\n",
    "         wage_modifier_by_seniority=1):\n",
    "    \n",
    "    \"\"\"Calculate and return the weekly wage of a worker.\n",
    "\n",
    "    Returns the product of `hourly_wage` and `hours_per_week` multiplied \n",
    "    by `wage_modifier` raised to the power of `seniority_in_years`.\n",
    "\n",
    "    Args:\n",
    "        hourly_wage (float): Sums paid for each working hour.\n",
    "        hours_per_week (int): Number of hours worked during the week.\n",
    "        seniority_in_years (int): Number of years in the workplace.\n",
    "        wage_modifier_by_seniority (float): A benefit applied to wage that depends\n",
    "        on seniority.\n",
    "\n",
    "\n",
    "    Returns:\n",
    "        float: The weekly wage of a worker.\n",
    "    \"\"\"\n",
    "\n",
    "    return (hours_per_week * hourly_wage * \n",
    "        (wage_modifier_by_seniority ** seniority_in_years))\n",
    "\n",
    "\n",
    "# help(calculate_weekly_wage)\n",
    "\n",
    "# print(calculate_weekly_wage.__doc__)\n"
   ],
   "execution_count": null,
   "outputs": []
  },
  {
   "cell_type": "markdown",
   "source": [
    "These days, docstrings are also used to automatically generate documentation for code. Rarely you would have to call `help`, because you can always find the documentation online.\n",
    "\n",
    "Another thing about docstrings, is that they can be used today as prompts to different code generation AI-based tools."
   ],
   "metadata": {
    "collapsed": false
   }
  },
  {
   "cell_type": "markdown",
   "metadata": {
    "id": "igTDwCqQfQTr"
   },
   "source": [
    "## Control Flow 2\n",
    "\n",
    "The final control flow syntax structure that we will cover, are loops. Loops are used when we want to execute a process iteratively (for a fixed number of iterations, for a fixed time duration, or until a condition is met)."
   ]
  },
  {
   "cell_type": "markdown",
   "metadata": {
    "id": "PAf6EbskEanL"
   },
   "source": [
    "### while loops\n",
    "\n",
    "Loops are composed of a loop-head and a loop-body. Generally the loop will not stop repeating itself as long as the condition specified in the loop head is met (i.e., returns `True`).\n",
    "\n",
    "\n",
    "Here is a demonstration of a looping style that is very dated in modern Python, and comes as a legacy from prior languages. You'd rarely encounter this, but you should know it, and it is pretty straightforward to understand."
   ]
  },
  {
   "cell_type": "code",
   "metadata": {
    "id": "GE6_UreIkg9V"
   },
   "source": [
    "counter = 0\n",
    "\n",
    "while counter < 10:\n",
    "    counter = counter + 1 \n",
    "    print(f'counter is now: {counter}')"
   ],
   "execution_count": null,
   "outputs": []
  },
  {
   "cell_type": "markdown",
   "metadata": {
    "id": "2C8vbI7Ok6bF"
   },
   "source": [
    "While loops are very useful when waiting for something to happen (e.g., when a program waits for the user to perform an action). However, they are not very frequent in data analysis.\n",
    "\n",
    "---\n",
    "Two keywords you can encounter in loops are `break` and `continue`. They are pretty self-explanatory, but here is a demonstration. `break` stops the loop, while `continue` skips the current iteration and moves on to the next one."
   ]
  },
  {
   "cell_type": "code",
   "execution_count": null,
   "outputs": [],
   "source": [
    "iterations_completed = 0\n",
    "while True:\n",
    "    user_input = input('Please enter a number (Q/q to quit): ')\n",
    "    if user_input.lower() == 'q':\n",
    "        print('Quitting...')\n",
    "        break\n",
    "    elif user_input == 'skip':\n",
    "        print(\"Skipping this iteration...\")\n",
    "        continue\n",
    "    else:\n",
    "        print(f'You entered: {user_input}')\n",
    "    iterations_completed += 1\n",
    "    print(f'Iterations completed: {iterations_completed}')\n",
    "print(\"Done!\")"
   ],
   "metadata": {
    "collapsed": false
   }
  },
  {
   "cell_type": "markdown",
   "source": [
    "Here is a very rudimentary demo of a one-off investment calculator, just to get the idea, and to give you some practice. We won't go over it in class, but you can run it later (or now) and analyze it to gather some insights about while loops.\n",
    " \n",
    "This is **not** how you would or should build an interactive console-based calculator (for example, you'd handle errors and exceptions, and you'd wrap everything in a designated class).\n",
    "\n",
    "The following example makes use of the `input` built-in function which receives text from the user and evaluates it as a string. This function is used here only for demonstration purposes, it is rarely used due to security issues (see [here](https://realpython.com/python-eval-function/#minimizing-the-security-issues-of-eval)).\n"
   ],
   "metadata": {
    "collapsed": false
   }
  },
  {
   "cell_type": "code",
   "metadata": {
    "id": "pzcUMceWk59J"
   },
   "source": [
    "def get_investment_input():\n",
    "    \"\"\"Get input from the user and return it as a tuple.\"\"\"\n",
    "    return(\n",
    "        float(input(\"Please enter initial (integer or float; e.g., 100): \")),\n",
    "        int(input(\"Please enter number of years (integer; e.g., 5): \")),\n",
    "        float(input(\"Please return expected annual interest rate (float; e.g., 10 for 10 %): \"))\n",
    "    )\n",
    "\n",
    "def calculate_revenue(initial_sum : float, years : int = 1, \n",
    "                         annual_interest_rate: float =1.05):\n",
    "    \"\"\"Calculate the revenue of an investment.\n",
    "\n",
    "    Args:\n",
    "        initial_sum (float): The initial sum of money invested.\n",
    "        years (int): The number of years the money is invested.\n",
    "        annual_interest_rate (float): The annual interest rate of the investment.\n",
    "\n",
    "    Returns:\n",
    "        float: The revenue of the investment.\n",
    "    \"\"\"\n",
    "    return initial_sum * annual_interest_rate ** years\n",
    "\n",
    "def report_revenue(sum : float):\n",
    "    print(f\"Investment results in {sum:.2f}.\")\n",
    "\n",
    "def main():\n",
    "    name = input(\"Please enter your name: \")\n",
    "    print(f\"Hi {name}, Starting calculator...\")\n",
    "\n",
    "    # Start an infinite loop. True is always True. \n",
    "    while True:\n",
    "\n",
    "        if input(\n",
    "            \"Type Q\\q to quit. Anything else to continue. \") in ['q', 'Q']:\n",
    "            break\n",
    "            # Not on colab, you can also use ctrl+c to exit an infinite loop,\n",
    "            #  but it would crash the program. \n",
    "\n",
    "        # Here there is an implicit \"else\" statement\n",
    "        report_revenue(calculate_revenue(*get_investment_input()))\n",
    "        \n",
    "    print(f\"Bye {name}!\")"
   ],
   "execution_count": null,
   "outputs": []
  },
  {
   "cell_type": "code",
   "execution_count": null,
   "outputs": [],
   "source": [
    "main()"
   ],
   "metadata": {
    "collapsed": false
   }
  },
  {
   "cell_type": "markdown",
   "metadata": {
    "id": "kstsDU5iEdcM"
   },
   "source": [
    "### for loops\n",
    "\n",
    "For loops are similar to while loops in the sense of performng an action repeatedly. However, instead of setting the number of iterations based on a truth value, we are using an iterator.\n",
    "\n",
    "Basically, an iterator can be any collection that we encountered so far - lists, strings, dictionaries and tuples. We can also create iterators using the `range` built-in function.\n"
   ]
  },
  {
   "cell_type": "markdown",
   "metadata": {
    "id": "OydMCDiSU0Qo"
   },
   "source": [
    "\n",
    "\n",
    "#### range\n",
    "`range` is a function that returns an iterator. It can be used to create a list of integers, or to iterate over a sequence of integers.\n",
    "\n",
    "Why range rather than a list? Because it is more memory efficient. A list is a collection of objects, while range is a generator of objects. We won't talk much about generators, except that they are more memory efficient by not storing the entire collection in memory, but rather generating it on the fly."
   ]
  },
  {
   "cell_type": "code",
   "metadata": {
    "colab": {
     "base_uri": "https://localhost:8080/"
    },
    "id": "YC2SkmVnK3CU",
    "executionInfo": {
     "status": "ok",
     "timestamp": 1633031116147,
     "user_tz": -180,
     "elapsed": 24,
     "user": {
      "displayName": "Eitan Hemed",
      "photoUrl": "https://lh3.googleusercontent.com/a-/AOh14GgjTbd1GSnhSQvJi3Wwmdj-WayQxZh7tE-36k6hfg=s64",
      "userId": "11035653591450038643"
     }
    },
    "outputId": "c723823b-28c3-4bc0-caf2-1f1e38aefaa1"
   },
   "source": [
    "some_integers = [0, 1, 2, 3, 4, 5] # A regular list\n",
    "integers_from_range = range(6) # \n",
    "# The regular list we know\n",
    "print(some_integers)\n",
    "# A range object\n",
    "print(integers_from_range)\n",
    "# A list from a range object\n",
    "print(list(integers_from_range))\n",
    "\n",
    "print(type(some_integers), type(integers_from_range))"
   ],
   "execution_count": null,
   "outputs": []
  },
  {
   "cell_type": "markdown",
   "metadata": {
    "id": "UdOIa40iPbV3"
   },
   "source": [
    "Instead of turning range into a list, we can use it to loop."
   ]
  },
  {
   "cell_type": "code",
   "metadata": {
    "id": "UiqgP9a1PraO"
   },
   "source": [
    "# Specifying start, stop and step like in a slicing operation.\n",
    "for i in range(0, 6, 2):\n",
    "    print(f\"i is now {i}\")\n",
    "# Remember that slicing is end-exclusive."
   ],
   "execution_count": null,
   "outputs": []
  },
  {
   "cell_type": "markdown",
   "metadata": {
    "id": "ICFCdychQHjW"
   },
   "source": [
    "We can use for loops to iterate over items in a list or dictionary, or characters in a string rather than mere indices."
   ]
  },
  {
   "cell_type": "code",
   "metadata": {
    "colab": {
     "base_uri": "https://localhost:8080/"
    },
    "id": "cWTvzAplQQwp",
    "executionInfo": {
     "status": "ok",
     "timestamp": 1633031956054,
     "user_tz": -180,
     "elapsed": 436,
     "user": {
      "displayName": "Eitan Hemed",
      "photoUrl": "https://lh3.googleusercontent.com/a-/AOh14GgjTbd1GSnhSQvJi3Wwmdj-WayQxZh7tE-36k6hfg=s64",
      "userId": "11035653591450038643"
     }
    },
    "outputId": "2a52334c-9511-4805-ea99-87366a1cf665"
   },
   "source": [
    "d = {'Language': 'Python', 'Environment': 'Google Colab', 'Day': 'Sunday'}\n",
    "\n",
    "# Iterte ove dictionary keys\n",
    "for this_key in d:\n",
    "    if this_key == \"Language\":\n",
    "        print(f\"The current language is {d[this_key]}!\")\n",
    "    elif this_key == 'Environment':\n",
    "        print(f\"We are using {d[this_key]}!\")\n",
    "    elif this_key == 'Day':\n",
    "        print(f\"Today is {d[this_key]}!\")\n",
    "    else:\n",
    "        pass # Does nothing"
   ],
   "execution_count": null,
   "outputs": []
  },
  {
   "cell_type": "markdown",
   "metadata": {
    "id": "drZufLaRSEjr"
   },
   "source": [
    "Previously we encountered the dictionary `items` method, that when called returns the pairs of keys and values. Using `items` is an example to how we can reassign two new values on each iteration of the loop.\n",
    "\n",
    "This can be much more readable and elegant at times. "
   ]
  },
  {
   "cell_type": "code",
   "metadata": {
    "colab": {
     "base_uri": "https://localhost:8080/"
    },
    "id": "WDjq9_3TSDle",
    "executionInfo": {
     "status": "ok",
     "timestamp": 1633032048203,
     "user_tz": -180,
     "elapsed": 323,
     "user": {
      "displayName": "Eitan Hemed",
      "photoUrl": "https://lh3.googleusercontent.com/a-/AOh14GgjTbd1GSnhSQvJi3Wwmdj-WayQxZh7tE-36k6hfg=s64",
      "userId": "11035653591450038643"
     }
    },
    "outputId": "1e328e5e-01ba-4421-b09c-044a64365134"
   },
   "source": [
    "d = {'Language': 'Python', 'Environment': 'Google Colab', 'Day': 'Thursday'}\n",
    "\n",
    "# Iterte ove dictionary items\n",
    "for this_key, this_value in d.items():\n",
    "    if this_key == \"Language\":\n",
    "        # No need now to look for the value in the dictionary\n",
    "        print(f\"The current language is {this_value}!\")\n",
    "    elif this_key == 'Day':\n",
    "        print(f\"Today is {this_value}!\")\n",
    "    else:\n",
    "        pass # Does nothing"
   ],
   "execution_count": null,
   "outputs": []
  },
  {
   "cell_type": "markdown",
   "metadata": {
    "id": "4onaW8qxTCk9"
   },
   "source": [
    "\n",
    "\n",
    "#### zip\n",
    "Another way to itearte over pairs (or triplets, or any arbitrary number) of elements is by constructing a zip object. \n",
    "\n",
    "The built-in `zip` function takes two iterables and constructs a collection of tuples that match the length of the shortest iterable.\n",
    "\n",
    "#### $\\color{dodgerblue}{\\text{Exercise!}}$\n",
    "Complete the following code to create a zip object from the three iterables, and then iterate over it to print on each iteration a letter, a digit and a special character."
   ]
  },
  {
   "cell_type": "code",
   "metadata": {
    "colab": {
     "base_uri": "https://localhost:8080/"
    },
    "id": "T2VaVgKrTjMC",
    "executionInfo": {
     "status": "ok",
     "timestamp": 1633032631193,
     "user_tz": -180,
     "elapsed": 336,
     "user": {
      "displayName": "Eitan Hemed",
      "photoUrl": "https://lh3.googleusercontent.com/a-/AOh14GgjTbd1GSnhSQvJi3Wwmdj-WayQxZh7tE-36k6hfg=s64",
      "userId": "11035653591450038643"
     }
    },
    "outputId": "98ca8844-4030-4a1f-d67b-754c0ca51fa4"
   },
   "source": [
    "letters = 'ABC' # Create some letters\n",
    "digits = range(-18, -12, 3) # Generate negative integers\n",
    "special_characters = dict(face='\\N{Upside-Down Face}', shin='ש') # A dictionary\n",
    "zipped_values = zip(letters, digits, special_characters.values())\n",
    "\n",
    "for letter, digit, char in zipped_values: # iterate over the resulting object, to print the following:\n",
    "    print(letter, digit, char)"
   ],
   "execution_count": null,
   "outputs": []
  },
  {
   "cell_type": "markdown",
   "metadata": {
    "id": "aCMCGlbhV5Pw"
   },
   "source": [
    "One last thing we would demonstrate is showing how loops can be used for implementing computational processes. In this exercise, you need to complete the code to calculate the mean of a sample of values. \n",
    "\n",
    "#### $\\color{dodgerblue}{\\text{Exercise}}$\n",
    "Complete the following code."
   ]
  },
  {
   "cell_type": "code",
   "metadata": {
    "colab": {
     "base_uri": "https://localhost:8080/"
    },
    "id": "97WmgtaBV4dk",
    "executionInfo": {
     "status": "ok",
     "timestamp": 1633033372998,
     "user_tz": -180,
     "elapsed": 311,
     "user": {
      "displayName": "Eitan Hemed",
      "photoUrl": "https://lh3.googleusercontent.com/a-/AOh14GgjTbd1GSnhSQvJi3Wwmdj-WayQxZh7tE-36k6hfg=s64",
      "userId": "11035653591450038643"
     }
    },
    "outputId": "3d855ce9-099e-41b8-913d-a1f0b75d585f"
   },
   "source": [
    "# iq_scores is a list containing a sample of values from a normal distribution (m = 100, sd = 15)\n",
    "iq_scores = [90, 87, 117, 112, 93, 113, 100, 110, 94, 102,\n",
    "     109, 92, 94, 90, 69, 111, 138, 96, 101, 95]\n",
    "\n",
    "sum_for_mean = 0\n",
    "\n",
    "for score in iq_scores: # Iterate over the IQ scores\n",
    "    sum_for_mean = sum_for_mean + score # Add the score to the sum\n",
    "\n",
    "# Mean is sum / N\n",
    "mean = sum_for_mean / len(iq_scores)\n",
    "\n",
    "print(mean) # should print 100.65"
   ],
   "execution_count": null,
   "outputs": []
  },
  {
   "cell_type": "markdown",
   "metadata": {
    "id": "S5bnh4RCUr_D"
   },
   "source": [
    "The crux here was that this seemed needlessly cumbersome. Which is why we can be thankful for modules and packages, our next major subject. "
   ]
  },
  {
   "cell_type": "markdown",
   "metadata": {
    "id": "8zK1nCItXqqk"
   },
   "source": [
    "# Misc.\n",
    "\n",
    "Many times, it is much more elegant to write much shorter code. \n",
    "\n",
    "While we won't dedicate this much time, there are a couple of operations and expressions you should be aware of - comprehensions, lambdas and ternary expressions. They are fairly easy to grasp, and you can go over it on your own in more depth if you wish.\n",
    "\n"
   ]
  },
  {
   "cell_type": "markdown",
   "metadata": {
    "id": "QRYBVulSeuc-"
   },
   "source": [
    "\n",
    "#### List comprehension\n",
    "\n",
    "List comprehension is a form of syntax that constructs a list from an iterable. The syntax of list (tuple/dict) comprehension is `action_on_item for item in iterable`.\n",
    "\n",
    "\n"
   ]
  },
  {
   "cell_type": "markdown",
   "metadata": {
    "id": "_dHsjYRKd1Qh"
   },
   "source": [
    "#### $\\color{dodgerblue}{\\text{Exercise!}}$\n",
    "\n",
    "Here is a loop that iterates over a lower-case string and appends to a list the upper-case characters. Complete the list comprehension below, so the printed result would be `True`."
   ]
  },
  {
   "cell_type": "code",
   "metadata": {
    "colab": {
     "base_uri": "https://localhost:8080/"
    },
    "id": "0RK9njPpYT3D",
    "executionInfo": {
     "status": "ok",
     "timestamp": 1633520429697,
     "user_tz": -180,
     "elapsed": 423,
     "user": {
      "displayName": "Eitan Hemed",
      "photoUrl": "https://lh3.googleusercontent.com/a-/AOh14GgjTbd1GSnhSQvJi3Wwmdj-WayQxZh7tE-36k6hfg=s64",
      "userId": "11035653591450038643"
     }
    },
    "outputId": "1ffb5650-fefa-4610-80db-89b330bf5d0a"
   },
   "source": [
    "results = []\n",
    "my_str = 'abcdef'\n",
    "\n",
    "for c in my_str:\n",
    "    results.append(c.upper())\n",
    "\n",
    "results == [c.upper() for ... in ...]\n"
   ],
   "execution_count": null,
   "outputs": []
  },
  {
   "cell_type": "markdown",
   "metadata": {
    "id": "3XNrjhBKYw2O"
   },
   "source": [
    "#### lambda functions\n",
    "\n",
    "lambdas are a single expression functions. They are often used on the fly, when we want to specify some semi-complex operation (i.e., anonymously, without assigning them to a variable).\n"
   ]
  },
  {
   "cell_type": "code",
   "metadata": {
    "colab": {
     "base_uri": "https://localhost:8080/"
    },
    "id": "0jbmERJGZYLV",
    "executionInfo": {
     "status": "ok",
     "timestamp": 1633520805213,
     "user_tz": -180,
     "elapsed": 289,
     "user": {
      "displayName": "Eitan Hemed",
      "photoUrl": "https://lh3.googleusercontent.com/a-/AOh14GgjTbd1GSnhSQvJi3Wwmdj-WayQxZh7tE-36k6hfg=s64",
      "userId": "11035653591450038643"
     }
    },
    "outputId": "899c196c-7b1f-431b-fee8-927cf6a28718"
   },
   "source": [
    "f = (lambda x: x ** 3 - 1)\n",
    "[f(x) for x in range(5)]"
   ],
   "execution_count": null,
   "outputs": []
  },
  {
   "cell_type": "markdown",
   "metadata": {
    "id": "u12Esx6I4mLR"
   },
   "source": [
    "#### Ternary Operators\n",
    "Finally, we briefly touched upon a form of control flow earlier, called ternary operator (also known as conditional expressions).\n",
    "They can sometimes produce elegant and succint code. The syntax for conditional expressions is `value_if_true if condition else value_if_false`.\n",
    "\n",
    "\n",
    "#### $\\color{dodgerblue}{\\text{Exercise!}}$\n",
    "Complete the following code so that both the if-else statement and the ternary operator would print the same text. "
   ]
  },
  {
   "cell_type": "code",
   "metadata": {
    "id": "aNoOHWsY6gVx"
   },
   "source": [
    "budget = 50\n",
    "expenses = 51\n",
    "\n",
    "# Verbose (4 lines)\n",
    "if budget < expenses:\n",
    "    print('In deficit')\n",
    "else:\n",
    "    print(\"Were OK\")\n",
    "\n",
    "# Concise (1 line)\n",
    "print(\"In deficit\") if budget < expenses else print(\"Were OK\")\n"
   ],
   "execution_count": null,
   "outputs": []
  },
  {
   "cell_type": "markdown",
   "source": [
    "# Built-in Modules\n",
    "\n",
    "Modules are files ('my_module.py') containing Python definitions and statements. Anytime you quit your Python session, everything you've typed into the console is wiped from memory. This is why you should use files (modules) to save your work.\n",
    "\n",
    "Modules allow us to share meaningful Python programs, or mere scripts (e.g., a set of variables and loops).\n",
    "\n",
    "Modules are objects (like functions, or variables, or almost anyhting in Python). This means that they have to be assigned to a name. We do this assignment using the `import` statement. Python comes with many built-in libraries that are composed of many modules, and modules can also be installed."
   ],
   "metadata": {
    "collapsed": false
   }
  },
  {
   "cell_type": "markdown",
   "source": [
    "Modules can contain variables, like strings."
   ],
   "metadata": {
    "collapsed": false
   }
  },
  {
   "cell_type": "code",
   "execution_count": null,
   "outputs": [],
   "source": [
    "import string\n",
    "\n",
    "print(type(string))\n",
    "print(string.ascii_lowercase)"
   ],
   "metadata": {
    "collapsed": false
   }
  },
  {
   "cell_type": "markdown",
   "source": [
    "Or numbers"
   ],
   "metadata": {
    "collapsed": false
   }
  },
  {
   "cell_type": "code",
   "execution_count": null,
   "outputs": [],
   "source": [
    "import math\n",
    "print(math.pi)"
   ],
   "metadata": {
    "collapsed": false
   }
  },
  {
   "cell_type": "markdown",
   "source": [
    "We can import a specific name from a module"
   ],
   "metadata": {
    "collapsed": false
   }
  },
  {
   "cell_type": "code",
   "execution_count": null,
   "outputs": [],
   "source": [
    "from statistics import mean\n",
    "\n",
    "iq_scores = [90, 87, 117, 112, 93, 113, 100, 110, 94, 102,\n",
    "     109, 92, 94, 90, 69, 111, 138, 96, 101, 95]\n",
    "\n",
    "mean(iq_scores)"
   ],
   "metadata": {
    "collapsed": false
   }
  },
  {
   "cell_type": "markdown",
   "source": [],
   "metadata": {
    "collapsed": false
   }
  },
  {
   "cell_type": "code",
   "execution_count": null,
   "outputs": [],
   "source": [
    "import this"
   ],
   "metadata": {
    "collapsed": false
   }
  },
  {
   "cell_type": "markdown",
   "source": [
    "Whenever you start a Python session, you only need to import the module once. If you try to use a module that you didn't previously import (e.g., because your session crashed), it would be as if you are trying to refer to a nonexistent name (i.e., variable).\n",
    "\n",
    "First run the following cell, then uncomment the import and run it again."
   ],
   "metadata": {
    "collapsed": false
   }
  },
  {
   "cell_type": "code",
   "execution_count": null,
   "outputs": [],
   "source": [
    "import itertools\n",
    "list(itertools.product(list('ab'), range(2)))"
   ],
   "metadata": {
    "collapsed": false
   }
  },
  {
   "cell_type": "markdown",
   "source": [
    "The same goes if you previously imported a name from a module (`from statistics import mean`), but not the whole module."
   ],
   "metadata": {
    "collapsed": false
   }
  },
  {
   "cell_type": "code",
   "execution_count": null,
   "outputs": [],
   "source": [
    "from statistics import mean\n",
    "statistics.std"
   ],
   "metadata": {
    "collapsed": false
   }
  },
  {
   "cell_type": "markdown",
   "source": [
    "#### $\\color{green}{\\text{Sidenote}}$\n",
    "\n",
    "In the past it was more prevelant to see people using the `from x import *` style, which imported nearly **every** name (e.g., variable, function, sub-module) from a package. While it is an option, it is generally discouraged to do so, see [here](https://stackoverflow.com/a/2386943)."
   ],
   "metadata": {
    "collapsed": false
   }
  },
  {
   "cell_type": "markdown",
   "source": [
    "#### $\\color{green}{\\text{Sidenote}}$\n",
    "\n",
    "One of the major strengths of Python is the abundance of add-on packages that allow you to complete all sorts of tasks.\n",
    "\n",
    "Before we move on to modules that are not built-in in Python, it is a good place to say that often the best tool for knowing how to do something in Python is **using Google**.\n",
    "\n",
    "Let's say you want to sample random numbers in Python. If you google for example [how to normal distribution python](https://www.google.com/search?channel=fs&client=ubuntu&q=how+to+normal+distribution+python%60), you will find many relevant results.\n",
    "\n",
    "The same is actually true for any task in Python. One of the main sites for finding how-to's is the forums site [StackOverflow](https://stackoverflow.com).\n",
    "\n",
    "It is so common that Colab developers even put in Colab a dedicated 'search StackOverflow' button when an error occurs in a code cell.\n",
    "\n",
    "The availability of AI coding assistants is a major change in this regard, but we'll get to that later in the workshop."
   ],
   "metadata": {
    "collapsed": false
   }
  }
 ]
}
